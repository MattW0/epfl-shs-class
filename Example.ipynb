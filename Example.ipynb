{
 "cells": [
  {
   "cell_type": "code",
   "execution_count": 1,
   "metadata": {},
   "outputs": [],
   "source": [
    "import json\n",
    "import os\n",
    "import bz2\n",
    "import io\n",
    "from bz2 import BZ2File"
   ]
  },
  {
   "cell_type": "markdown",
   "metadata": {},
   "source": [
    "### Transform the data\n"
   ]
  },
  {
   "cell_type": "markdown",
   "metadata": {},
   "source": [
    "You can run bash commands from your notebook, just prefix the command with `!`\n",
    "\n",
    "For example, let's check free space on the disk:"
   ]
  },
  {
   "cell_type": "code",
   "execution_count": 2,
   "metadata": {},
   "outputs": [
    {
     "name": "stdout",
     "output_type": "stream",
     "text": [
      "Filesystem      Size  Used Avail Use% Mounted on\r\n",
      "udev             16G     0   16G   0% /dev\r\n",
      "tmpfs           3.2G  2.7M  3.2G   1% /run\r\n",
      "/dev/sda2       234G  114G  108G  52% /\r\n",
      "tmpfs            16G  387M   16G   3% /dev/shm\r\n",
      "tmpfs           5.0M  4.0K  5.0M   1% /run/lock\r\n",
      "tmpfs            16G     0   16G   0% /sys/fs/cgroup\r\n",
      "/dev/loop0      256K  256K     0 100% /snap/jq/6\r\n",
      "/dev/loop2      216M  216M     0 100% /snap/atom/236\r\n",
      "/dev/loop1       55M   55M     0 100% /snap/core18/1144\r\n",
      "/dev/loop3      4.2M  4.2M     0 100% /snap/gnome-calculator/406\r\n",
      "/dev/loop4      220M  220M     0 100% /snap/atom/238\r\n",
      "/dev/loop6      5.2M  5.2M     0 100% /snap/htop/1066\r\n",
      "/dev/loop5      150M  150M     0 100% /snap/gnome-3-28-1804/67\r\n",
      "/dev/loop7      150M  150M     0 100% /snap/slack/16\r\n",
      "/dev/loop13     1.0M  1.0M     0 100% /snap/gnome-logs/73\r\n",
      "/dev/loop8      141M  141M     0 100% /snap/gnome-3-26-1604/90\r\n",
      "/dev/loop11      43M   43M     0 100% /snap/gtk-common-themes/1313\r\n",
      "/dev/loop10     4.3M  4.3M     0 100% /snap/gnome-calculator/501\r\n",
      "/dev/loop9       90M   90M     0 100% /snap/core/7713\r\n",
      "/dev/loop14     141M  141M     0 100% /snap/gnome-3-26-1604/92\r\n",
      "/dev/loop15     147M  147M     0 100% /snap/slack/17\r\n",
      "/dev/loop16      36M   36M     0 100% /snap/gtk-common-themes/1198\r\n",
      "/dev/loop17     3.8M  3.8M     0 100% /snap/gnome-system-monitor/100\r\n",
      "/dev/loop18      11M   11M     0 100% /snap/kubectl/1189\r\n",
      "/dev/loop19      55M   55M     0 100% /snap/core18/1098\r\n",
      "/dev/loop20     185M  185M     0 100% /snap/eclipse/40\r\n",
      "/dev/loop21     1.0M  1.0M     0 100% /snap/gnome-logs/61\r\n",
      "/dev/loop22     3.8M  3.8M     0 100% /snap/gnome-system-monitor/95\r\n",
      "/dev/loop23      89M   89M     0 100% /snap/core/7396\r\n",
      "/dev/loop24     5.9M  5.9M     0 100% /snap/htop/1168\r\n",
      "/dev/loop25      15M   15M     0 100% /snap/gnome-characters/317\r\n",
      "/dev/loop26     150M  150M     0 100% /snap/gnome-3-28-1804/71\r\n",
      "/dev/loop27      15M   15M     0 100% /snap/gnome-characters/296\r\n",
      "/dev/sda1       511M  6.1M  505M   2% /boot/efi\r\n",
      "/dev/sdb1       3.6T  1.3T  2.2T  38% /media/romanell/4T\r\n",
      "tmpfs           3.2G   16K  3.2G   1% /run/user/120\r\n",
      "tmpfs           3.2G   96K  3.2G   1% /run/user/165343\r\n",
      "/dev/loop28      11M   11M     0 100% /snap/kubectl/1234\r\n"
     ]
    }
   ],
   "source": [
    "! df -h"
   ]
  },
  {
   "cell_type": "markdown",
   "metadata": {},
   "source": [
    "whereas without `!` it won't work:"
   ]
  },
  {
   "cell_type": "code",
   "execution_count": 3,
   "metadata": {},
   "outputs": [
    {
     "ename": "NameError",
     "evalue": "name 'df' is not defined",
     "output_type": "error",
     "traceback": [
      "\u001b[0;31m---------------------------------------------------------------------------\u001b[0m",
      "\u001b[0;31mNameError\u001b[0m                                 Traceback (most recent call last)",
      "\u001b[0;32m<ipython-input-3-c989bd551bfa>\u001b[0m in \u001b[0;36m<module>\u001b[0;34m\u001b[0m\n\u001b[0;32m----> 1\u001b[0;31m \u001b[0mdf\u001b[0m \u001b[0;34m-\u001b[0m\u001b[0mh\u001b[0m\u001b[0;34m\u001b[0m\u001b[0;34m\u001b[0m\u001b[0m\n\u001b[0m",
      "\u001b[0;31mNameError\u001b[0m: name 'df' is not defined"
     ]
    }
   ],
   "source": [
    "df -h"
   ]
  },
  {
   "cell_type": "code",
   "execution_count": 4,
   "metadata": {},
   "outputs": [
    {
     "name": "stdout",
     "output_type": "stream",
     "text": [
      "download: 's3://impresso-public/sample-rebuilt-teaching/GDL-1900.jsonl.bz2' -> 'data/GDL-1900.jsonl.bz2'  [1 of 2]\n",
      " 72413580 of 72413580   100% in    0s   105.64 MB/s  done\n",
      "download: 's3://impresso-public/sample-rebuilt-teaching/JDG-1900.jsonl.bz2' -> 'data/JDG-1900.jsonl.bz2'  [2 of 2]\n",
      " 210016648 of 210016648   100% in    1s   105.04 MB/s  done\n"
     ]
    }
   ],
   "source": [
    "!s3cmd get s3://impresso-public/sample-rebuilt-teaching/* data/"
   ]
  },
  {
   "cell_type": "code",
   "execution_count": 6,
   "metadata": {},
   "outputs": [
    {
     "name": "stdout",
     "output_type": "stream",
     "text": [
      "/home/romanell/Documents/impresso/epfl-shs-class/data\n"
     ]
    }
   ],
   "source": [
    "cd data/"
   ]
  },
  {
   "cell_type": "code",
   "execution_count": 18,
   "metadata": {},
   "outputs": [
    {
     "name": "stdout",
     "output_type": "stream",
     "text": [
      "total 278648\r\n",
      "drwxr-xr-x 2 romanell DHLAB-unit      4096 Sep 25 13:15 \u001b[0m\u001b[01;34m.\u001b[0m/\r\n",
      "drwxr-xr-x 5 romanell DHLAB-unit      4096 Sep 25 13:14 \u001b[01;34m..\u001b[0m/\r\n",
      "-rw-r--r-- 1 romanell DHLAB-unit  72413580 Sep 25 10:33 \u001b[01;31mGDL-1900.jsonl.bz2\u001b[0m\r\n",
      "-rw-r--r-- 1 romanell DHLAB-unit   2887680 Sep 25 13:15 \u001b[01;31mGDL-1900-reduced.jsonl.bz2\u001b[0m\r\n",
      "-rw-r--r-- 1 romanell DHLAB-unit 210016648 Sep 25 10:33 \u001b[01;31mJDG-1900.jsonl.bz2\u001b[0m\r\n"
     ]
    }
   ],
   "source": [
    "ls -la"
   ]
  },
  {
   "cell_type": "code",
   "execution_count": 14,
   "metadata": {},
   "outputs": [
    {
     "name": "stdout",
     "output_type": "stream",
     "text": [
      "/home/romanell/Documents/impresso/epfl-shs-class/data\n"
     ]
    }
   ],
   "source": [
    "cd data/"
   ]
  },
  {
   "cell_type": "code",
   "execution_count": 19,
   "metadata": {},
   "outputs": [],
   "source": [
    "!for f in *[0-9].jsonl.bz2; do bzcat $f | jq -c '{id: .id, type: .tp, date: .d, title: .t, fulltext: .ft}' | bzip2 > \"${f%.jsonl.bz2}-reduced.jsonl.bz2\" ; done"
   ]
  },
  {
   "cell_type": "code",
   "execution_count": 20,
   "metadata": {},
   "outputs": [
    {
     "name": "stdout",
     "output_type": "stream",
     "text": [
      "total 312888\r\n",
      "drwxr-xr-x 2 romanell DHLAB-unit      4096 Sep 25 13:16 \u001b[0m\u001b[01;34m.\u001b[0m/\r\n",
      "drwxr-xr-x 5 romanell DHLAB-unit      4096 Sep 25 13:18 \u001b[01;34m..\u001b[0m/\r\n",
      "-rw-r--r-- 1 romanell DHLAB-unit  72413580 Sep 25 10:33 \u001b[01;31mGDL-1900.jsonl.bz2\u001b[0m\r\n",
      "-rw-r--r-- 1 romanell DHLAB-unit  11701319 Sep 25 13:16 \u001b[01;31mGDL-1900-reduced.jsonl.bz2\u001b[0m\r\n",
      "-rw-r--r-- 1 romanell DHLAB-unit 210016648 Sep 25 10:33 \u001b[01;31mJDG-1900.jsonl.bz2\u001b[0m\r\n",
      "-rw-r--r-- 1 romanell DHLAB-unit  26243380 Sep 25 13:17 \u001b[01;31mJDG-1900-reduced.jsonl.bz2\u001b[0m\r\n"
     ]
    }
   ],
   "source": [
    "ls -la ./"
   ]
  },
  {
   "cell_type": "code",
   "execution_count": 21,
   "metadata": {},
   "outputs": [
    {
     "name": "stdout",
     "output_type": "stream",
     "text": [
      "/home/romanell/Documents/impresso/epfl-shs-class\n"
     ]
    }
   ],
   "source": [
    "cd ../"
   ]
  },
  {
   "cell_type": "markdown",
   "metadata": {},
   "source": [
    "### Reading newspaper archive data\n",
    "\n",
    "Reminder: the data is already 'clean' and the files at hand contains only the following information:\n",
    "- id\n",
    "- date\n",
    "- title\n",
    "- type (article or advertisement)\n",
    "- fulltext"
   ]
  },
  {
   "cell_type": "code",
   "execution_count": 22,
   "metadata": {},
   "outputs": [
    {
     "data": {
      "text/plain": [
       "'/home/romanell/Documents/impresso/epfl-shs-class'"
      ]
     },
     "execution_count": 22,
     "metadata": {},
     "output_type": "execute_result"
    }
   ],
   "source": [
    "pwd"
   ]
  },
  {
   "cell_type": "code",
   "execution_count": 23,
   "metadata": {},
   "outputs": [],
   "source": [
    "input_dir = \"data/\" # update with your path "
   ]
  },
  {
   "cell_type": "code",
   "execution_count": 24,
   "metadata": {},
   "outputs": [],
   "source": [
    "# a helper function to get the lines from am archive\n",
    "def read_jsonlines(bz2_file):\n",
    "    text = bz2_file.read().decode('utf-8')\n",
    "    for line in text.split('\\n'):\n",
    "        if line != '':\n",
    "            yield line"
   ]
  },
  {
   "cell_type": "markdown",
   "metadata": {},
   "source": [
    "### Reading from s3"
   ]
  },
  {
   "cell_type": "code",
   "execution_count": 10,
   "metadata": {},
   "outputs": [],
   "source": [
    "import dask.bag as db\n",
    "\n",
    "_storage_options={\n",
    "    'client_kwargs': {'endpoint_url':'https://os.zhdk.cloud.switch.ch'},\n",
    "    'anon':True\n",
    "}\n",
    "\n",
    "ci_bag = db.read_text(\n",
    "    's3://impresso-public/sample-rebuilt-teaching/*bz2',\n",
    "    storage_options=_storage_options\n",
    ").map(json.loads)"
   ]
  },
  {
   "cell_type": "code",
   "execution_count": 11,
   "metadata": {},
   "outputs": [
    {
     "name": "stdout",
     "output_type": "stream",
     "text": [
      "CPU times: user 85.1 ms, sys: 175 ms, total: 260 ms\n",
      "Wall time: 1min 28s\n"
     ]
    },
    {
     "data": {
      "text/plain": [
       "45260"
      ]
     },
     "execution_count": 11,
     "metadata": {},
     "output_type": "execute_result"
    }
   ],
   "source": [
    "%%time\n",
    "ci_bag.count().compute()"
   ]
  },
  {
   "cell_type": "code",
   "execution_count": 15,
   "metadata": {},
   "outputs": [
    {
     "data": {
      "text/plain": [
       "({'id': 'GDL-1900-12-12-a-i0001',\n",
       "  'pp': [1],\n",
       "  'd': '1900-12-12',\n",
       "  'olr': True,\n",
       "  'ts': '2019-06-17T10:02:03Z',\n",
       "  'lg': 'fr',\n",
       "  'tp': 'ar',\n",
       "  's3v': None,\n",
       "  'ppreb': [{'id': 'GDL-1900-12-12-a-p0001',\n",
       "    'n': 1,\n",
       "    't': [{'c': [471, 1240, 406, 113], 's': 0, 'l': 12},\n",
       "     {'c': [113, 1233, 15, 54], 's': 13, 'l': 1},\n",
       "     {'c': [127, 1233, 44, 54], 's': 15, 'l': 2},\n",
       "     {'c': [235, 1233, 27, 54], 's': 18, 'l': 1},\n",
       "     {'c': [262, 1233, 135, 54], 's': 20, 'l': 6},\n",
       "     {'c': [204, 1304, 67, 40], 's': 27, 'l': 4},\n",
       "     {'c': [300, 1304, 135, 40], 's': 32, 'l': 7},\n",
       "     {'c': [106, 1365, 56, 40], 's': 40, 'l': 3},\n",
       "     {'c': [175, 1365, 42, 40], 's': 44, 'l': 2},\n",
       "     {'c': [225, 1365, 75, 40], 's': 47, 'l': 4},\n",
       "     {'c': [315, 1365, 48, 40], 's': 52, 'l': 2},\n",
       "     {'c': [377, 1365, 48, 40], 's': 55, 'l': 2},\n",
       "     {'c': [438, 1365, 169, 40], 's': 58, 'l': 8},\n",
       "     {'c': [606, 1365, 10, 40], 's': 66, 'l': 1},\n",
       "     {'c': [635, 1365, 63, 40], 's': 68, 'l': 3},\n",
       "     {'c': [710, 1365, 171, 40], 's': 72, 'l': 9},\n",
       "     {'c': [106, 1412, 56, 40], 's': 82, 'l': 3},\n",
       "     {'c': [177, 1412, 221, 40], 's': 86, 'l': 12},\n",
       "     {'c': [419, 1412, 83, 40], 's': 99, 'l': 4},\n",
       "     {'c': [517, 1412, 123, 40], 's': 104, 'l': 7},\n",
       "     {'c': [654, 1412, 88, 40], 's': 112, 'l': 4},\n",
       "     {'c': [744, 1412, 10, 40], 's': 116, 'l': 1},\n",
       "     {'c': [148, 1473, 60, 40], 's': 118, 'l': 3},\n",
       "     {'c': [223, 1473, 227, 40], 's': 122, 'l': 11},\n",
       "     {'c': [471, 1473, 71, 40], 's': 134, 'l': 4},\n",
       "     {'c': [556, 1473, 94, 40], 's': 139, 'l': 5},\n",
       "     {'c': [667, 1473, 67, 40], 's': 145, 'l': 3},\n",
       "     {'c': [754, 1473, 125, 40], 's': 149, 'l': 5, 'hy1': True},\n",
       "     {'c': [106, 1521, 162, 40], 's': 149, 'l': 16, 'hy2': True},\n",
       "     {'c': [279, 1521, 46, 40], 's': 166, 'l': 2},\n",
       "     {'c': [338, 1521, 35, 40], 's': 169, 'l': 2},\n",
       "     {'c': [385, 1521, 127, 40], 's': 172, 'l': 7},\n",
       "     {'c': [527, 1521, 40, 40], 's': 180, 'l': 2},\n",
       "     {'c': [575, 1521, 160, 40], 's': 183, 'l': 8},\n",
       "     {'c': [752, 1521, 35, 40], 's': 192, 'l': 2},\n",
       "     {'c': [802, 1521, 77, 40], 's': 195, 'l': 4},\n",
       "     {'c': [106, 1569, 71, 40], 's': 200, 'l': 4},\n",
       "     {'c': [190, 1569, 52, 40], 's': 205, 'l': 3},\n",
       "     {'c': [250, 1569, 144, 40], 's': 209, 'l': 7},\n",
       "     {'c': [413, 1569, 46, 40], 's': 217, 'l': 2},\n",
       "     {'c': [471, 1569, 92, 40], 's': 220, 'l': 5},\n",
       "     {'c': [562, 1569, 10, 40], 's': 225, 'l': 1}],\n",
       "    'r': [[113, 1225, 771, 125], [104, 1358, 775, 254]]}],\n",
       "  'lb': [12, 26, 39, 81, 117, 149, 199, 226],\n",
       "  'cc': True,\n",
       "  't': 'gratuitement ,la §azette seia envoyée',\n",
       "  'pb': [27, 40, 118],\n",
       "  'rb': [40],\n",
       "  'ft': \"gratuitement , la § azette seia envoyée dès ce jour au 31 décembre, aux personnes qui s'abonneront pour l'année 1901. Les abonnements sont reçus par l'administration de la Gazette de Lausanne et dans tous les bureaux de poste. \"},)"
      ]
     },
     "execution_count": 15,
     "metadata": {},
     "output_type": "execute_result"
    }
   ],
   "source": [
    "ci_bag.take(1)"
   ]
  },
  {
   "cell_type": "code",
   "execution_count": null,
   "metadata": {},
   "outputs": [],
   "source": [
    "%%time\n",
    "ci_bag.map(lambda ci: len(ci['ft'])).sum().compute()"
   ]
  },
  {
   "cell_type": "markdown",
   "metadata": {},
   "source": [
    "### reading data the classical way"
   ]
  },
  {
   "cell_type": "code",
   "execution_count": 25,
   "metadata": {},
   "outputs": [
    {
     "name": "stdout",
     "output_type": "stream",
     "text": [
      "1900-10-10 JDG-1900-10-10-a-i0001 BULLETIN GENÈVE, 9 octobre 1900\n",
      "1900-10-10 JDG-1900-10-10-a-i0057 None\n",
      "1900-10-10 JDG-1900-10-10-a-i0058 None\n",
      "1900-10-10 JDG-1900-10-10-a-i0059 None\n",
      "1900-10-10 JDG-1900-10-10-a-i0004 None\n",
      "1900-10-10 JDG-1900-10-10-a-i0013 Angleterre\n",
      "1900-10-10 JDG-1900-10-10-a-i0030 RÉUNiONS.-CONVOCATIONS.-CONCERTS\n",
      "1900-10-10 JDG-1900-10-10-a-i0060 None\n",
      "1900-10-10 JDG-1900-10-10-a-i0005 NOUVELLES Df.S CANTONS\n",
      "1900-10-10 JDG-1900-10-10-a-i0031 Comité électoral démocratique\n",
      "1900-10-10 JDG-1900-10-10-a-i0061 None\n",
      "1900-10-10 JDG-1900-10-10-a-i0032 DERNIERES DÉPÊCHES\n",
      "1900-10-10 JDG-1900-10-10-a-i0062 None\n",
      "1900-10-10 JDG-1900-10-10-a-i0007 None\n",
      "1900-10-10 JDG-1900-10-10-a-i0016 CHRONIQUE LOCALE\n",
      "1900-10-10 JDG-1900-10-10-a-i0033 Turquie CONSTANTINOPLE (via Sofia), 9. — Le sultan a ordonné au conseil des ministres de mettre de\n",
      "1900-10-10 JDG-1900-10-10-a-i0063 None\n",
      "1900-10-10 JDG-1900-10-10-a-i0017 DOCTEUR GERMAINE\n",
      "1900-10-10 JDG-1900-10-10-a-i0034 Les affaires de Chine\n",
      "1900-10-10 JDG-1900-10-10-a-i0064 None\n",
      "1900-10-10 JDG-1900-10-10-a-i0009 None\n",
      "1900-10-10 JDG-1900-10-10-a-i0018 , . îtaîle\n",
      "1900-10-10 JDG-1900-10-10-a-i0035 Guerre angïo-transvaaMeine\n",
      "1900-10-10 JDG-1900-10-10-a-i0065 None\n",
      "1900-10-10 JDG-1900-10-10-a-i0019 Saint-Siège\n",
      "1900-10-10 JDG-1900-10-10-a-i0066 None\n",
      "1900-10-10 JDG-1900-10-10-a-i0037 BOURSE DE GENEVE\n",
      "1900-10-10 JDG-1900-10-10-a-i0021 Turquie\n",
      "1900-10-10 JDG-1900-10-10-a-i0038 COESMJBRCIA17X\n",
      "1900-10-10 JDG-1900-10-10-a-i0022 Autriche-Hongrie - »\n",
      "1900-10-10 JDG-1900-10-10-a-i0039 None\n",
      "1900-10-10 JDG-1900-10-10-a-i0023 Etats des Balkans\n",
      "1900-10-10 JDG-1900-10-10-a-i0024 Etats-Unis\n",
      "1900-10-10 JDG-1900-10-10-a-i0041 None\n",
      "1900-10-10 JDG-1900-10-10-a-i0025 Russie\n",
      "1900-10-10 JDG-1900-10-10-a-i0042 Iiprliefle (!B «Joornal de fiente», ra§ ifliraHMiir, S-ï\n",
      "1900-10-10 JDG-1900-10-10-a-i0026 Guerre anglo-transvaalienne\n",
      "1900-10-10 JDG-1900-10-10-a-i0043 A HHATTQ rendue sans médeci-A 1UUS ne, par la délicieuse REVALESCIÈRE DU BARRY\n",
      "1900-10-10 JDG-1900-10-10-a-i0044 None\n",
      "1900-10-10 JDG-1900-10-10-a-i0045 None\n",
      "1900-10-10 JDG-1900-10-10-a-i0046 None\n",
      "1900-10-10 JDG-1900-10-10-a-i0047 None\n",
      "1900-10-10 JDG-1900-10-10-a-i0048 None\n",
      "1900-10-10 JDG-1900-10-10-a-i0049 MÉTÉOROLOGIE OBSERVATIONS DE GENÈVE\n",
      "1900-10-10 JDG-1900-10-10-a-i0050 None\n",
      "1900-10-10 JDG-1900-10-10-a-i0051 Antilles\n",
      "1900-10-10 JDG-1900-10-10-a-i0052 Amérique du Nord\n",
      "1900-10-10 JDG-1900-10-10-a-i0053 BUREAU CENTRAL DE ZURICH\n",
      "1900-10-10 JDG-1900-10-10-a-i0054 France\n",
      "1900-10-10 JDG-1900-10-10-a-i0055 Italie\n",
      "1900-10-10 JDG-1900-10-10-a-i0056 Angleterre\n",
      "1900-10-25 JDG-1900-10-25-a-i0001 GENEVE, 24 octobre 1900\n",
      "1900-10-25 JDG-1900-10-25-a-i0053 None\n",
      "1900-10-25 JDG-1900-10-25-a-i0054 None\n",
      "1900-10-25 JDG-1900-10-25-a-i0013 LA CHAMBRE DU ROI\n",
      "1900-10-25 JDG-1900-10-25-a-i0029 RÉUMIOKS.-COHVOCÂTIQHS.-COHCERTS\n",
      "1900-10-25 JDG-1900-10-25-a-i0055 None\n",
      "1900-10-25 JDG-1900-10-25-a-i0004 None\n",
      "1900-10-25 JDG-1900-10-25-a-i0056 None\n",
      "1900-10-25 JDG-1900-10-25-a-i0031 PROPORTIONNELLE FÉDÉRALE\n",
      "1900-10-25 JDG-1900-10-25-a-i0057 None\n",
      "1900-10-25 JDG-1900-10-25-a-i0032 DERNIÈRES DÉPÊCHES\n",
      "1900-10-25 JDG-1900-10-25-a-i0058 None\n",
      "1900-10-25 JDG-1900-10-25-a-i0007 NOUVELLES DES CANTONS\n",
      "1900-10-25 JDG-1900-10-25-a-i0033 Les affaires de Chine\n",
      "1900-10-25 JDG-1900-10-25-a-i0059 None\n",
      "1900-10-25 JDG-1900-10-25-a-i0008 None\n",
      "1900-10-25 JDG-1900-10-25-a-i0018 Italie\n",
      "1900-10-25 JDG-1900-10-25-a-i0034 Guerre anglo-transvaalieme\n",
      "1900-10-25 JDG-1900-10-25-a-i0060 None\n",
      "1900-10-25 JDG-1900-10-25-a-i0019 Angleterre\n",
      "1900-10-25 JDG-1900-10-25-a-i0061 None\n",
      "1900-10-25 JDG-1900-10-25-a-i0010 None\n",
      "1900-10-25 JDG-1900-10-25-a-i0020 Belgique\n",
      "1900-10-25 JDG-1900-10-25-a-i0036 BOURSE DE GENEVE\n",
      "1900-10-25 JDG-1900-10-25-a-i0062 None\n",
      "1900-10-25 JDG-1900-10-25-a-i0021 Allemagne\n",
      "1900-10-25 JDG-1900-10-25-a-i0037 None\n",
      "1900-10-25 JDG-1900-10-25-a-i0063 None\n",
      "1900-10-25 JDG-1900-10-25-a-i0022 Guerre aHglo-transvaalienne\n",
      "1900-10-25 JDG-1900-10-25-a-i0038 METEOROLOGIE OBSERVATIONS DE GENÈVE\n",
      "1900-10-25 JDG-1900-10-25-a-i0023 Etats-Unis\n",
      "1900-10-25 JDG-1900-10-25-a-i0024 Japon\n",
      "1900-10-25 JDG-1900-10-25-a-i0040 La santé des enfants\n",
      "1900-10-25 JDG-1900-10-25-a-i0025 Espagne\n",
      "1900-10-25 JDG-1900-10-25-a-i0041 None\n",
      "1900-10-25 JDG-1900-10-25-a-i0026 PRIME JOURNAL DE GENÈVE\n",
      "1900-10-25 JDG-1900-10-25-a-i0042 None\n",
      "1900-10-25 JDG-1900-10-25-a-i0043 None\n",
      "1900-10-25 JDG-1900-10-25-a-i0044 BATEAUX A VAPEUR\n",
      "1900-10-25 JDG-1900-10-25-a-i0045 BUREAU CENTRAL DE ZURICH 24 octobre 1900\n",
      "1900-10-25 JDG-1900-10-25-a-i0046 None\n",
      "1900-10-25 JDG-1900-10-25-a-i0047 Norvège\n",
      "1900-10-25 JDG-1900-10-25-a-i0048 Espagne\n",
      "1900-10-25 JDG-1900-10-25-a-i0049 Grèce\n",
      "1900-10-25 JDG-1900-10-25-a-i0050 Âllemâg-îLô\n",
      "1900-10-25 JDG-1900-10-25-a-i0051 Angleterre\n",
      "1900-10-25 JDG-1900-10-25-a-i0052 Italie\n",
      "1900-10-04 JDG-1900-10-04-a-i0001 GENEVE, 3 octobre 1000\n",
      "1900-10-04 JDG-1900-10-04-a-i0058 None\n",
      "1900-12-12 GDL-1900-12-12-a-i0001 gratuitement ,la §azette seia envoyée\n",
      "1900-12-12 GDL-1900-12-12-a-i0029 None\n",
      "1900-12-12 GDL-1900-12-12-a-i0002 A propos do régonts réformateurs\n",
      "1900-12-12 GDL-1900-12-12-a-i0009 Pays-Bas et Portugal.\n",
      "1900-12-12 GDL-1900-12-12-a-i0017 None\n",
      "1900-12-12 GDL-1900-12-12-a-i0030 None\n",
      "1900-12-12 GDL-1900-12-12-a-i0003 Le rachat du Central\n",
      "1900-12-12 GDL-1900-12-12-a-i0010 France.\n",
      "1900-12-12 GDL-1900-12-12-a-i0018 None\n",
      "1900-12-12 GDL-1900-12-12-a-i0031 None\n",
      "1900-12-12 GDL-1900-12-12-a-i0004 Au Reichstag.\n",
      "1900-12-12 GDL-1900-12-12-a-i0011 Conseils aux politiciens.\n",
      "1900-12-12 GDL-1900-12-12-a-i0019 None\n",
      "1900-12-12 GDL-1900-12-12-a-i0032 None\n",
      "1900-12-12 GDL-1900-12-12-a-i0005 None\n",
      "1900-12-12 GDL-1900-12-12-a-i0012 CONFÉDÉRATION SUISSE\n",
      "1900-12-12 GDL-1900-12-12-a-i0020 None\n",
      "1900-12-12 GDL-1900-12-12-a-i0033 None\n",
      "1900-12-12 GDL-1900-12-12-a-i0006 None\n",
      "1900-12-12 GDL-1900-12-12-a-i0013 CONSEIL DES ETATS Séance du 11 décembre\n",
      "1900-12-12 GDL-1900-12-12-a-i0021 Dernières dépêches\n",
      "1900-12-12 GDL-1900-12-12-a-i0034 None\n",
      "1900-12-12 GDL-1900-12-12-a-i0007 None\n",
      "1900-12-12 GDL-1900-12-12-a-i0014 ÇANTQN DE VAUD\n",
      "1900-12-12 GDL-1900-12-12-a-i0022 CONSEIL NATIONAL\n",
      "1900-12-12 GDL-1900-12-12-a-i0035 None\n",
      "1900-12-12 GDL-1900-12-12-a-i0015 LAUSANNE\n",
      "1900-12-12 GDL-1900-12-12-a-i0023 LES LIVRES\n",
      "1900-12-12 GDL-1900-12-12-a-i0036 None\n",
      "1900-12-12 GDL-1900-12-12-a-i0024 La réclame et les FÊTES DE FIN D'ANNÉE\n",
      "1900-12-12 GDL-1900-12-12-a-i0037 None\n",
      "1900-12-12 GDL-1900-12-12-a-i0025 ABONNEMENTS A L'rTJg\n",
      "1900-12-12 GDL-1900-12-12-a-i0038 None\n",
      "1900-12-12 GDL-1900-12-12-a-i0026 None\n",
      "1900-12-12 GDL-1900-12-12-a-i0039 None\n",
      "1900-12-12 GDL-1900-12-12-a-i0027 None\n",
      "1900-12-12 GDL-1900-12-12-a-i0040 None\n",
      "1900-12-12 GDL-1900-12-12-a-i0028 None\n",
      "1900-12-12 GDL-1900-12-12-a-i0041 None\n",
      "1900-12-12 GDL-1900-12-12-a-i0042 None\n",
      "1900-12-12 GDL-1900-12-12-a-i0043 None\n",
      "1900-12-12 GDL-1900-12-12-a-i0044 None\n",
      "1900-12-12 GDL-1900-12-12-a-i0045 None\n",
      "1900-12-12 GDL-1900-12-12-a-i0046 None\n",
      "1900-12-12 GDL-1900-12-12-a-i0047 None\n",
      "1900-12-12 GDL-1900-12-12-a-i0048 None\n",
      "1900-12-12 GDL-1900-12-12-a-i0049 None\n",
      "1900-12-12 GDL-1900-12-12-a-i0050 None\n",
      "1900-12-12 GDL-1900-12-12-a-i0051 None\n",
      "1900-12-12 GDL-1900-12-12-a-i0052 None\n",
      "1900-12-12 GDL-1900-12-12-a-i0053 None\n",
      "1900-12-12 GDL-1900-12-12-a-i0054 None\n",
      "1900-12-12 GDL-1900-12-12-a-i0055 None\n",
      "1900-12-12 GDL-1900-12-12-a-i0056 None\n",
      "1900-12-12 GDL-1900-12-12-a-i0057 None\n",
      "1900-12-12 GDL-1900-12-12-a-i0058 None\n",
      "1900-12-12 GDL-1900-12-12-a-i0059 None\n",
      "1900-12-12 GDL-1900-12-12-a-i0060 None\n",
      "1900-12-12 GDL-1900-12-12-a-i0061 None\n",
      "1900-12-12 GDL-1900-12-12-a-i0062 None\n",
      "1900-12-12 GDL-1900-12-12-a-i0063 None\n",
      "1900-12-12 GDL-1900-12-12-a-i0064 None\n",
      "1900-12-12 GDL-1900-12-12-a-i0065 None\n",
      "1900-12-12 GDL-1900-12-12-a-i0066 None\n",
      "1900-12-12 GDL-1900-12-12-a-i0067 None\n",
      "1900-12-12 GDL-1900-12-12-a-i0068 None\n",
      "1900-12-12 GDL-1900-12-12-a-i0069 None\n",
      "1900-12-12 GDL-1900-12-12-a-i0070 None\n",
      "1900-12-12 GDL-1900-12-12-a-i0071 None\n",
      "1900-12-12 GDL-1900-12-12-a-i0072 None\n",
      "1900-12-12 GDL-1900-12-12-a-i0073 None\n",
      "1900-12-12 GDL-1900-12-12-a-i0074 None\n",
      "1900-12-12 GDL-1900-12-12-a-i0075 None\n",
      "1900-12-12 GDL-1900-12-12-a-i0076 None\n",
      "1900-12-12 GDL-1900-12-12-a-i0077 None\n",
      "1900-12-12 GDL-1900-12-12-a-i0078 None\n",
      "1900-12-12 GDL-1900-12-12-a-i0079 None\n",
      "1900-12-12 GDL-1900-12-12-a-i0080 None\n",
      "1900-12-12 GDL-1900-12-12-a-i0081 None\n",
      "1900-12-12 GDL-1900-12-12-a-i0082 None\n",
      "1900-12-12 GDL-1900-12-12-a-i0083 None\n",
      "1900-12-12 GDL-1900-12-12-a-i0084 None\n",
      "1900-12-12 GDL-1900-12-12-a-i0085 None\n",
      "1900-12-12 GDL-1900-12-12-a-i0086 None\n",
      "1900-12-12 GDL-1900-12-12-a-i0087 None\n",
      "1900-12-12 GDL-1900-12-12-a-i0088 None\n",
      "1900-12-12 GDL-1900-12-12-a-i0089 None\n",
      "1900-12-12 GDL-1900-12-12-a-i0090 None\n",
      "1900-12-12 GDL-1900-12-12-a-i0091 None\n",
      "1900-12-12 GDL-1900-12-12-a-i0092 None\n",
      "1900-12-12 GDL-1900-12-12-a-i0093 None\n",
      "1900-12-12 GDL-1900-12-12-a-i0094 None\n",
      "1900-12-12 GDL-1900-12-12-a-i0095 None\n",
      "1900-12-10 GDL-1900-12-10-a-i0001 None\n",
      "1900-12-10 GDL-1900-12-10-a-i0034 None\n",
      "1900-12-10 GDL-1900-12-10-a-i0002 Le rachat et les obligataires;\n",
      "1900-12-10 GDL-1900-12-10-a-i0010 LETTRE DE PARIS\n",
      "1900-12-10 GDL-1900-12-10-a-i0018 Gmtçm m VAUD\n",
      "1900-12-10 GDL-1900-12-10-a-i0035 None\n",
      "1900-12-10 GDL-1900-12-10-a-i0003 Lli Jonraai âB Maronente Plantin\n"
     ]
    }
   ],
   "source": [
    "for archive in os.listdir(input_dir):\n",
    "    \n",
    "    # take only the transformed archives\n",
    "    if \"reduced\" in archive:\n",
    "        \n",
    "        # open the archive\n",
    "        f = BZ2File(os.path.join(input_dir, archive), 'r')\n",
    "        \n",
    "        # get the list of articles it contains (= a json object on each line)\n",
    "        articles = list(read_jsonlines(f))\n",
    "        \n",
    "        # load the first 100 articles as json and access their attributes\n",
    "        for a in articles[:100]:\n",
    "            \n",
    "            # decode the json string into an object (dict)\n",
    "            json_article = json.loads(a)\n",
    "            print(\n",
    "                json_article[\"date\"],\n",
    "                json_article[\"id\"],\n",
    "                json_article[\"title\"]\n",
    "            )"
   ]
  },
  {
   "cell_type": "markdown",
   "metadata": {},
   "source": [
    "### using dask and map\n",
    "see http://dask.pydata.org/en/latest/docs.html "
   ]
  },
  {
   "cell_type": "code",
   "execution_count": 27,
   "metadata": {},
   "outputs": [],
   "source": [
    "# make sure of having these libraries in your environment ('conda install' / or 'pip install')\n",
    "from dask.diagnostics import ProgressBar\n",
    "from dask.distributed import Client, progress\n",
    "import dask.bag as db"
   ]
  },
  {
   "cell_type": "markdown",
   "metadata": {},
   "source": [
    "#### Helper functions"
   ]
  },
  {
   "cell_type": "code",
   "execution_count": 28,
   "metadata": {},
   "outputs": [],
   "source": [
    "def get_archives(path):\n",
    "    archives = []\n",
    "    for archive in os.listdir(path):\n",
    "        if \"reduced\" in archive:\n",
    "            archives.append(os.path.join(input_dir, archive))\n",
    "    return archives"
   ]
  },
  {
   "cell_type": "code",
   "execution_count": 29,
   "metadata": {},
   "outputs": [],
   "source": [
    "def get_articles(archive_file):\n",
    "    articles = []\n",
    "    # open the archive\n",
    "    f = BZ2File(archive_file, 'r')\n",
    "    # get the list of articles it contains (= a json object on each line)\n",
    "    lines = list(read_jsonlines(f))\n",
    "    # load the articles as json and access their attributes\n",
    "    for a in lines:\n",
    "        articles.append(json.loads(a))\n",
    "    return articles"
   ]
  },
  {
   "cell_type": "markdown",
   "metadata": {},
   "source": [
    "#### Read and filter articles in parallel"
   ]
  },
  {
   "cell_type": "code",
   "execution_count": 30,
   "metadata": {},
   "outputs": [],
   "source": [
    "archives = get_archives(input_dir)"
   ]
  },
  {
   "cell_type": "code",
   "execution_count": 32,
   "metadata": {},
   "outputs": [
    {
     "data": {
      "text/plain": [
       "['data/JDG-1900-reduced.jsonl.bz2', 'data/GDL-1900-reduced.jsonl.bz2']"
      ]
     },
     "execution_count": 32,
     "metadata": {},
     "output_type": "execute_result"
    }
   ],
   "source": [
    "archives"
   ]
  },
  {
   "cell_type": "code",
   "execution_count": 33,
   "metadata": {},
   "outputs": [],
   "source": [
    "bag_archives = db.from_sequence(archives)\n",
    "bag_articles = bag_archives.map(get_articles)\\\n",
    "                        .flatten()\\\n",
    "                        .filter(lambda ar: ar['fulltext'] != '')\\\n",
    "                        .repartition(npartitions=100)"
   ]
  },
  {
   "cell_type": "code",
   "execution_count": null,
   "metadata": {},
   "outputs": [
    {
     "name": "stdout",
     "output_type": "stream",
     "text": [
      "[####################                    ] | 50% Completed |  1min  7.0s"
     ]
    }
   ],
   "source": [
    "with ProgressBar():\n",
    "    bag_articles = bag_articles.persist()"
   ]
  },
  {
   "cell_type": "code",
   "execution_count": 45,
   "metadata": {
    "collapsed": true
   },
   "outputs": [
    {
     "data": {
      "text/plain": [
       "({'id': 'GDL-1900-07-25-a-i0001',\n",
       "  'type': 'ar',\n",
       "  'date': '1900-07-25',\n",
       "  'title': None,\n",
       "  'fulltext': 'REDACTION .\\'\\'Eue Pcuinçt, 3. V BUREAU D\\'ABONNEMENTS fiucilo St-François, 20. On s\\'abonne dans lous les bureaux do poste Les abonnements partent du 1 \" ou du l\\'ô do chaque mois. PRIX D\\'ABONNEMENT Un an 6 mois 8 moi} Suisso Fr. 20 dO 50 5 50 Union postale » 36 18 50 9 50 Prix du numéro : 10 centimes. '},\n",
       " {'id': 'GDL-1900-07-25-a-i0002',\n",
       "  'type': 'ar',\n",
       "  'date': '1900-07-25',\n",
       "  'title': 'Lausanne, 25 juillet 1900. Le Péril socialiste',\n",
       "  'fulltext': \"Lausanne, 25 juillet 1900. Le Péril socialiste. Le socialisme prépare une révolution économique semblable à celle qui, éteignant la civilisation romaine, répandit sur l'Europe les ténèbres du moyen âge. Ce bouleversement est inévitable, non par la force des partis qui attaquent la société, mais par l'ignorance, la légèreté et la lâ cheté de ceux que les agresseurs veulent spolier. Telle est la thèse que M. Vilfredo Pareto, l'éminent économiste dont s'honore la Faculté de droit de l'Université de Lausanne, vient de développer dans une vingtaine de pages, en une preste et attrayante dialectique (1). Relevons quelques points essentiels de son argumentation. Presque jamais, dit M. Pareto, les aristocraties — ce mot étant pris dans son sens étymologique, les meilleurs — n'ont péri sous les coups de leurs adversaires. Elles se sont toujours faites elles-mêmes les artisans de leur destruction. Voyez l'ancien régime en France. Voyez l'avènement du christianisme dans le monde romain. Pline, le jeune, sous Trajan, croyait qu'on pourrait arrêter l'envahissement de la supersti tion chrétienne. L'armée et les classes di rigeantes étaient encore intactes. Le moyen de croire que de petites communautés de gens sans aveu oseraient braver un magistrat romain et se mesurer avec les légions dont les aigles victorieuses avaient traversé tant de champs de bataille ? Le prince de Bismark partageait la même illusion à l'endroit du socialisme. L'erreur de Pline, comme celle du grand chancelier, consistait à ne pas tenir compte de l'évolution naturelle des doctrines. Certes, si le christianisme n'eut pas transigé, s'il était resté une religion de pauvres gens, jamais il ne serait devenu la religion officielle de l'empire. Pareillement, ce n'est pas le socialisme de Bebel en Allemagne, ni celui de Jules Guesde en France qui arriveront au pouvoir. Ce sera un autre genre de socialisme, leur héritier direct, et qui, pour être transigeant, n'en sera pas moins spoliateur. La conversion de Constantin n'est pas mentionnée par les historiens romains. Il semble à les lire que tous les princes du IV siècle persistent à pratiquer l'ancienne religion. Le silence est devenu la dernière prostestation du culte proscrit. Et cette indifférence ne se retrouve-t-elle pas d'hui chez nos libéraux ? Leurs journaux relatent sans commentaires les persécutions dont un ingénieur a été l'objet de la part de grévistes ou les mauvais traitements inlligés par ceux-ci à un camarade refusant de quitter le travail ou les spoliations qu'une municipalité radicale-socialiste fait subir aux gens capables et travailleurs au profit des incapables et des paresseux. Parmi les nombreuses espèces de socialistes, ce ne sont pas les socialistes scientifiques qui sont les plus dangereux. Ils recherchent sincèrement la vérité. Par leur science économique, ils sont très supérieurs à bien des économistes de la prétendue école historique. Mais ils sont peu nombreux et sans influence pratique. Le péril ne vient pas non plus des socialistes orthodoxes, dont l'action est cependant considérable. Marxistes intransigeants, ils veulent détruire le capital social. Moins ignorants ou moins avides que les socialistes-radi-(1) LE PÉRIL SOCUMSTK, par Vilfredo Pareto. (Extrait du Journal des Economistes). — Paris, librairie Guillauiiiin & Cie, ruo Richelieu. caux, ils entendent toutefois constituer le capital collectif. Les ennemis les plus dangereux de la société actuelle sont ces sectes mrltiples qui, faute d'un terme plus approprié, peuvent être comprises sous le nom de « socialistes vulgaires ». Ce sont elles qui brisent ou plutôt endorment la résistance des partis bourgeois. Le socialisme vulgaire rend traîtres à leur propre causa un grand nombre d'individus appartenant aux classes possédantes. Il jette un pont par où peuvent passer les gens timorés s'effrayant d'un saut qui les porterait en plein dans le socialisme révolutionnaire. Parmi les socialistes vulgaires, M. Pareto range les socialistes chrétiens — catholiques ou protestants, — assez répandus en Allemagne ; les socialistes de la chaire, qui sont en train de disparaître ; les éthiques, qui, dans les ligues pour l'action morale et autres semblables, s'agitent beaucoup et font plus de bruit que de besogne ; les so cialistes hygiénistes, qui, sous prétexte de soigner notre santé, veulent jouer le rôle du médecin de Sancho Pança ; les socialistes moralistes, qui veulent nous rendre moraux en vertu d'un article de loi ; ils viennent de proposer, en Allemagne, la lex Heinze, monstrueuse conception de cerveaux malades ; les socialistes humanitaires, qui substituent aux raisonnements des déclamations vides et creuses ; enfin les radicaux-socialistes, les plus nombreux, les plus inlluents, les plus nuisibles de tous ; ils sont socialistes comme ils seraient partisans de tout autre régime pourvu qu'ils y trouvassent leur avantage ; pour payer les faveurs de leurs électeurs, ils ont découvert un moyen ingénieux de spoliation : l'impôt est voté par la majorité des électeurs et payé par la minorité. On voit de grands gaillards toucher, aux frais des ouvriers laborieux, cinq francs par jour pour un travail insignifiant. Mais en temps d'élection, ils assurent le triomphe des politiciens qui leur distribuent la manne. Le passage suivant marque bien les procédés par lesquels le socialisme vulgaire s'insinue dans le parti qu'il détruira : Allez dire franchement à un bourgeois que, suivant votre théorie, il doit être dépossédé de sa maison et de ses rentes, il aura peut-être encore assez de bon sens et d'énergie pour repousser cette doctrine. Mais que se présente un socialiste chrétien, un éthique, un partisan la « solidarité » et il leur prêtera une oreille attentive. Il dira volontiers : « Je me mettrai d'accord » Avec cet animal qui m'a semblé si doux : Il est velouté comme nous. Marqueté, longue queue, une. humble conteuance, Un modeste regard et pourtant l'œil luisant. Je le crois fort sympathisant Avec messieurs les rats ! c'est-à-dire avec messieurs les bourgeois. En effet, sa sympathie est telle qu'il veut les alléger de leurs deniers et les livrer pieds et poings iiés aux socialistes révolutionnaires qui achèveront l'œuvre si bien commencée. Mais les libéraux ne se contentent pas de renoncer à toute défense. Naïvement, ils vont jusqu'à aider leurs adversaires. La brochure que nous analysons décrit avec netteté cette folle tactique : Ils fondent, de leurs deniers, des et universités populaires », où l'on enseigne que leurs biens sont mal acquis et qu'il les en faut dépouiller. C'est déplacer la question que de la porter sur le terrain de la liberté. Aucun libéral ne refusera aux socialistes la liberté d'exposer leur doctrine, de la défendre, de critiquer celle de leurs adversaires, de se livrer activement à la propagande de lenrs théories. Tout le monde est disposé à accorder la liberté à ses amis, les libéraux la veulent aussi pour leurs adversaires. Je puis parler de la chose sans le moindre embarras, car, n'étant ni socialiste ai clérical, j'ai toujours défendu la liberté des uns et des autres. Partisan de la concurrence, je n'ai jamais demandé qu'on donnât à l'Etat le monopole de l'instruction publique, sous prétexte que mes adversaires tirent parti de cette concurrence. Mais si l'on doit la liberté, la tolérance, la courtoisie à ses adversaires, on ne leur doit pas aide et secours pour les mettre en mesure de faire des prosélytes. Etre partisan de la concurrence et donner de l'argent à son concurrent sont deux choses essentiellement différentes. Que les socialistes fondent autant d'universités populaires qu'il leur plaira, et pourvu que ce soit avec leur argent, aucun libéral n'y trouvera à redire ; mais je trouve absurde qu'on me demande mon argent pour propager ce que je crois être l'erreur ; j'entends le réserver uniquement pour la défense de ce que, à tort ou à raison, je crois être la vérité. Enfin, de même que tolérance n'est pas assistance, courtoisie n'est pas flatterie. Un savant illustre, donnant une conférence à des ignorants, parle de « coopération des idées ». Il est plus que courtois. Il ilatte. Il ne peut croire sincèrement que ses auditeurs « coopèrent » et lui enseignent quelque chose. C'était aussi un courtisan que ce ministre qui, parlant d'ouvriers auxquels on voulait faire entendre gratis — c'est-à-dire aux frais des contribuables — les artistes des grands théâtres, disait : les ouvriers « consentent à prendre sur leurs soirées quelques heures tous les mois » pour aller jouir des distractions qu'on leur offre. « Il est des gens, dit M. Pareto, qui s'imaginent désarmer leurs ennemis à force de lâches complaisances. Us se trompent. Le monde a toujours appartenu aux forts et leur appartiendra longtemps encore. Les hommes ne respectent que ceux qui savent se faire respecter. Qui se fait agneau trouvera toujours un loup pour le manger ». Vérité incontestable, mais qu'il n'était pas trop de l'autorité et de la verve du savant professeur pour rappeler aux libéraux de tous pays. \"},\n",
       " {'id': 'GDL-1900-07-25-a-i0003',\n",
       "  'type': 'ar',\n",
       "  'date': '1900-07-25',\n",
       "  'title': 'ZOBY',\n",
       "  'fulltext': \"ZOBY FEUILLETON DE LA GAZETTE DE LAUSANNE PAR HENRY GRÉVILLE — Urbain ? tu parles d'Urbain ? dit Zoby. — Il est amoureux de toi, lit l'enfant très grave. Dans cette jeune bouche ces mots résonnaient étrangement ; mais, si la bouche était jeune, le front avait l'air vieillot. — Pas encore, répliqua gaiement Zoby ; cela viendra, sois tranquille ; mais il est trop jeune, il ne sait pas seulement quelle figure on fait quand on est amoureux. — Tu ne l'épouseras pas ? — Oh non ! je ne pense pas... Non, décidément. Et puis, qu'est-ce que ça te ferait ? — Je ne veux pas qu'on t'épouse, répondit Léon d'un ton calme qui était un ordre. Zoby ne rit pas, cette fois ; elle regarda avec un mélange de tendresse et de pitié l'expression concentrée du pâle visage qui l'examinait. — Nous avons le temps d'y songer, dit-elle. A présent, Léon, ce n'est pas la peine, nous perdrions nos paroles. J'irai t'écouter demain. — Il y a un nouveau motet, très beau : c'est moi qui commence ; le chœur ensuite. Après un instant, il ajouta : — Je suis fatigué, je vais me coucher. La grand'mère tourna vers lui son visage surpris. Depuis qu'il savait parler, c'était la première fois que Léon se disait fatigué. Aucune marche forcée, aucun travail enragé n'avait pu, jusque-là, lui arracher cet aveu. Il se leva et se dirigea vers son lit, laissant la porte ouverte. Pendant quelques minutes on l'entendit soupirer et se retourner, puis il s'endormit. Un peu après, sa sœur alla le voir ; penchée sur lui très prudemment, car il avait le sommeil léger, elle écouta les battements du jeune cœur qui résonnait dans le silence, un peu forts, très irréguliers... Elle ne l'embrassa pas ; mais debout, les mains jointes, elle le contempla longtemps dans la pénombre... puis elle revint s'asseoir et termina son chapeau. Le lendemain soir, comme elle l'avait promis, Zoby accompagna son frère jusqu'au pied de l'escalier en dentelle de pierre qui conduit au jubé de la cathédrale. Dehors, il faisait grand jour encore ; mais l'intérieur de l'église était sombre. La maîtrise au grand complet se trouvait à son poste : de petites lampes fixées aux pupitres jetaient leur vive clarté sur les feuillets de musique ; une lampe plus haute, très puissante éclairait la partition sur l'estrade de Tarragone, dont le visage, au-dessus, se trouvait dans l'ombre. C'était un spectacle singulier que cette pléiade de faibles lumières à cette hauteur, dans la nef obscure, piquée çà et là de cierges votifs. Personne d'ailleurs, dans l'immense édifice, sauf des prêtres dans les confessionnaux et quelques dévotes avec leurs chapelets. — Te voilà, Léon ? fit le maître de chapelle, qui tatoyait tous ses garçons. Es-tu bien ? Peux-tu chanter ? Sept heures sonnèrent à l'horloge. Au dehors, les hirondelles tournoyaient avec des cris joyeux qu'on entendait lorsqu'une femme ouvrait ou fermait la porte. — Je SHÎS prêt, Monsieur, dit Léon en regardant José ; il tenait à la main son feuillet de musique. Trois ou quatre petits coups d'avertissement sur le pupitre, puis Tarragoue leva le bâton de mesure... La voix de Léon partit comme une fusée dans l'immense vaisseau qu'elle remplit de sa sonorité singulière. Elle se pliait avec une incomparable souplesse aux fantaisies du compositeur, embrassant, contournant la mélodie pour ainsi dire, de façon à donner une certaine angoisse délicieuse, comme si l'on avait un peu peur d'être étouffé. Le chœur suivit et développa le motif. Léon s'était tu ; le morceau s'acheva sans qu'il eut chanté le finale avec les autres. — Reprenons, dit Tarragone après un court repos. Léon, tu chanteras la fin, cette fois, n'est-ce pas ? L'enfant recommença ; sa voix était encore plus fluide, plus pénétrante que tout à l'heure ; soudain, elle s'arrêta comme cassée ; nn mouvement dans les rangs, le bruit d'une chute... Zoby était déjà dans l'escalier de pierre. Les jeunes garçons avaient relevé leur camarade ; mais ils ne devaient plus jamais l'entendre. Un mince filet de sang coulait du coin de sa bouche ; quand on voulut le redresser, le sang jaillit, éclaboussant sa sœur, qui le tenait serré contre elle. — Léon, Liof... disait-elle tout bas en le secouant très doncement. Tout à coup, elle regarda Tarragone qui soutenait le corps sous les bras. — Comme maman, dit-elle. Il s'est rompu une veine. Ces voix divines, cela doit finir ainsi. Les yeux de Zoby exprimaient une profonde angoisse, une pitié sans borne, plus qu'une douleur ordinaire. — II n'a pas souffert, Monsieur, n'est-ce pas ? dit-elle en implorant du regard le maître de chapelle consterné. — Mais il n'est pas mort ! dit celui-ci s'avisant tout à coup de l'ennui que causerait cette catastrophe dans un lieu consacre. Il n'est qu'évanoui. Nous allons le transporter chez le pharmacien de la place ; il y a un médecin dans la maison... Le cortège descendait déjà l'escalier. La frêle Zoby soutenait sur son épaule la lourde tête qui se laissait aller sans résistance. Le pharmacien ouvrit son salon particulier, et, devinant l'accident, annonça que le cœur battait encore. Zoby le regarda d'un air incrédule, mais ne dit rien. Lorsque le médecin se présenta ., il constata la mort. La jeune fille poussa un soupir, et se redressa. — Je savais qu'il mourrait en chantant, ditelle. Maman aussi. On va l'emmener chez nous, n'est-ce pas ? — Mais votre grand'mère ? demanda José. Ne craignez-vous pas le choc pour elle ? Zoby haussa les épaules. — Énvoyez-la prévenir, si vous voulez, ditelle. Je reste avec Liof. Le funèbre cortège s'achemina vers la demeure dos enfants Zorn, pendant que Tarragone réunissait sa maîtrise éparpillée et la ramenait au jubé. La répétition continua ; mais on ne chanta plus le motet. Il faut bien que la vie suive son cours sur les corps de ceux qui se sont laissé tomber. Léon fut enterré un matin de mai, sous une neige de pétales blancs qu'une brise fantasque arrachait aux cerisiers en Heurs, dans tous les vergers des Flandres. Sa sœur vit retomber la terre sur le petit cercueil, sans que ses yeux foncé 3 ni ses lèvres minces eussent fait un mouvement ; mais son teint était semblable à de l'ivoire mat. Quand ce fut fini, elle prit le bras d'Eisa, et le serra avec force. — Je n'ai plus personne, cdit-olle. Une détresse réelle convulsionna le visage impassible. Lafillede Tarragone entoura de ses tendres bras, de ses belles mains compatissantes, les épamles maigres de Zoby Zorn. — Vous nous avez, dit-elle avec une bonté infinie. Zoby la regarda au fond des yeux, lut dans cette âme candide, et se détourna avec une sorte de honte. — Si vous le voulez, murmura-t-elle, les yeux baissés. Eisa la conduisit à sa mère, qui, devant cette douleur, prit sur son sein l'orpheline esseulée. — Et sa grand'mère ? demanda tout bas Urbain à son père. — Elle est à peu près privée de raison, à ce que je suppose, répondit celui-ci. Pourquoi s'était-il fait cette idée de Mme Zorn ; il eût été bien embarrassé de le dire ; mais c'était une explication : pour l'heure, il n'en fallait pas davantage. Pendant la semaine suivante, la robe noire de Zoby et un petit chapeau de crêpe, qui avait remplacé le grand Gainsborough à plumes, se montrèrent souvent sur le seuil de la maison flamande. Eisa s'ell'orçait de rasséréner l'âme, évidemment troublée, de sa nouvelle amie, et voyait avec chagrin ses consolations demeurer sans effet. — ; Je savais que cela arriverait, répétait Zoby, les mains ouvertes sur les genoux. Eisa lui parla de la vie éternelle, d'un revoir dans un monde meilleur : ses douces paroles furent écoutées en silence, et elle dut s'avouer à elle-même que toute tentative on ce sens serait inutile ; Zoby ne s'intéressait pas à la vie éternelle. Ce fut un gros crève-cœur pour l'aimable enfant ; sa jeune âme chrétienne ne pouvait comprendre un cerveau où l'idée d'immortalité ne primerait pas toutes les autres ; sontant que Mme Claudia serait horriblement choquée si elle venait à l'apprendre, elle évita rigoureusement toute confidence à ce sujet ; pour la première fois, depuis qu'elle avait ouvert les yeux de son corps à la notion des choses, elle eut un secret pour sa mère. Cette créature de bonté n'éprouva point de répulsion ni même de détachement en découvrant eu Mlle Zorn ce qui pour elle était néanmoins une tare ; elle eut tellement pitié de la détresse morale, qui, croyait-elle, devait accompagner cet état d'esprit, qu'elle en aima davantage la pauvre déshéritée, et lui prodigua toutes les délicatesses de son tendre cœur. Mme Tarragone n'éleva pas d'objections ; c'était là un cas en dehors de toutes les règles qu'elle s'imposait dans la vie ; sympathique ou non, une jeune fille se trouvait seule au monde : pourquoi son enfant n'apporterait-elle pas quelque soulagement à cette affreuse situation ? L'en empêcher, même par les meilleures raisons de sagesse, eût été une sorte de cruauté, un mauvais exemple pour toutes les deux. Mai s'achevait ; les lilas avaient passé fleur, les cytises perdaient leurs longues grappes d'or qui s'envolaient en poussière ailée par-dessus les murs des jardins : le remue-ménage annuel était commencé chez Mme Claudia ; les meubles, couverts de leurs housses blanches, semblaient des fantômes, dont les plus jeunes enfants avaient un peu peur à la nuit tombante : des malles, descendues des greniers, restaient béantes tout le jour et même parfois toute la nuit, en attendant qu'on les remplît de choses claires et délicates, mousselines et linons d'été pour les filles, coutil rayé pour les garçons ; Eisa passait des heures, patiemment agenouillée auprès des grands coffres, rangeant les vêtements d'hiver dans des draps qui sentaient la bonne lessive. Un jour, vers cinq heures, Zoby vint comme elle le faisait souvent, et sans être \"},\n",
       " {'id': 'GDL-1900-07-25-a-i0005',\n",
       "  'type': 'ar',\n",
       "  'date': '1900-07-25',\n",
       "  'title': None,\n",
       "  'fulltext': 'HT JOUR » AL SUISSE FONDÉE EN 1798 '})"
      ]
     },
     "execution_count": 45,
     "metadata": {},
     "output_type": "execute_result"
    }
   ],
   "source": [
    "bag_articles.take(4, npartitions=10)"
   ]
  },
  {
   "cell_type": "code",
   "execution_count": 90,
   "metadata": {},
   "outputs": [
    {
     "data": {
      "text/plain": [
       "6727"
      ]
     },
     "execution_count": 90,
     "metadata": {},
     "output_type": "execute_result"
    }
   ],
   "source": [
    "bag_articles.count().compute()"
   ]
  },
  {
   "cell_type": "code",
   "execution_count": 14,
   "metadata": {},
   "outputs": [],
   "source": [
    "articles = bag_articles.compute()"
   ]
  },
  {
   "cell_type": "code",
   "execution_count": 15,
   "metadata": {},
   "outputs": [
    {
     "data": {
      "text/plain": [
       "6727"
      ]
     },
     "execution_count": 15,
     "metadata": {},
     "output_type": "execute_result"
    }
   ],
   "source": [
    "len(articles)"
   ]
  },
  {
   "cell_type": "markdown",
   "metadata": {},
   "source": [
    "#### Compute total number of tokens (parallel)"
   ]
  },
  {
   "cell_type": "code",
   "execution_count": 46,
   "metadata": {},
   "outputs": [],
   "source": [
    "n_tokens = bag_articles.map(lambda ar: len(ar['fulltext'].split()))"
   ]
  },
  {
   "cell_type": "code",
   "execution_count": 47,
   "metadata": {},
   "outputs": [],
   "source": [
    "total_tokens = n_tokens.sum().compute()"
   ]
  },
  {
   "cell_type": "code",
   "execution_count": 48,
   "metadata": {},
   "outputs": [
    {
     "data": {
      "text/plain": [
       "'4,178,435'"
      ]
     },
     "execution_count": 48,
     "metadata": {},
     "output_type": "execute_result"
    }
   ],
   "source": [
    "\"{:,}\".format(total_tokens)"
   ]
  },
  {
   "cell_type": "markdown",
   "metadata": {},
   "source": [
    "#### Extract Named Entities with SpaCy"
   ]
  },
  {
   "cell_type": "code",
   "execution_count": 18,
   "metadata": {},
   "outputs": [],
   "source": [
    "import textacy"
   ]
  },
  {
   "cell_type": "code",
   "execution_count": 21,
   "metadata": {},
   "outputs": [],
   "source": [
    "fr = textacy.load_spacy('fr_core_news_sm')"
   ]
  },
  {
   "cell_type": "code",
   "execution_count": 22,
   "metadata": {},
   "outputs": [
    {
     "data": {
      "text/plain": [
       "spacy.lang.fr.French"
      ]
     },
     "execution_count": 22,
     "metadata": {},
     "output_type": "execute_result"
    }
   ],
   "source": [
    "type(fr)"
   ]
  },
  {
   "cell_type": "code",
   "execution_count": null,
   "metadata": {},
   "outputs": [],
   "source": [
    "def extract_entities(article):\n",
    "\n",
    "    # load spacy language model for French\n",
    "    fr = textacy.load_spacy('fr_core_news_sm')\n",
    "    \n",
    "    # create a textacy Document\n",
    "    doc = textacy.Doc(article['fulltext'], lang=fr)\n",
    "    \n",
    "    # apply SpaCy ner to the Document via textacy\n",
    "    nes = list(textacy.extract.named_entities(doc))\n",
    "    \n",
    "    return {\n",
    "        \"id\": article[\"id\"],\n",
    "        \"entities\": nes,\n",
    "        \"textacy_doc\": doc\n",
    "    }"
   ]
  },
  {
   "cell_type": "code",
   "execution_count": 49,
   "metadata": {},
   "outputs": [
    {
     "name": "stdout",
     "output_type": "stream",
     "text": [
      "CPU times: user 9min 3s, sys: 3min 23s, total: 12min 26s\n",
      "Wall time: 3min 45s\n"
     ]
    }
   ],
   "source": [
    "%%time\n",
    "entities_by_article = [\n",
    "    extract_entities(art)\n",
    "    for art in articles[:1000]\n",
    "]"
   ]
  },
  {
   "cell_type": "code",
   "execution_count": 43,
   "metadata": {},
   "outputs": [
    {
     "data": {
      "text/plain": [
       "{'id': 'GDL-1900-07-25-a-i0002',\n",
       " 'entities': [Lausanne,\n",
       "  Péril socialiste,\n",
       "  M. Vilfredo Pareto,\n",
       "  Faculté de droit de l',\n",
       "  Université de Lausanne,\n",
       "  Pareto,\n",
       "  Voyez,\n",
       "  France,\n",
       "  Voyez,\n",
       "  Pline,\n",
       "  Trajan,\n",
       "  prince de Bismark,\n",
       "  Pline,\n",
       "  Bebel,\n",
       "  Allemagne,\n",
       "  Jules Guesde,\n",
       "  France,\n",
       "  Constantin,\n",
       "  IV siècle,\n",
       "  Marxistes,\n",
       "  PÉRIL SOCUMSTK,\n",
       "  Vilfredo Pareto,\n",
       "  Extrait du Journal des Economistes,\n",
       "  Paris,\n",
       "  Guillauiiiin & Cie,\n",
       "  Richelieu,\n",
       "  Pareto,\n",
       "  Allemagne,\n",
       "  Sancho Pança,\n",
       "  Allemagne,\n",
       "  Heinze,\n",
       "  Allez,\n",
       "  Marqueté,\n",
       "  modeste regard,\n",
       "  Etat,\n",
       "  M.,\n",
       "  Pareto,\n",
       "  Vérité]}"
      ]
     },
     "execution_count": 43,
     "metadata": {},
     "output_type": "execute_result"
    }
   ],
   "source": [
    "entities_by_article[1]"
   ]
  }
 ],
 "metadata": {
  "kernelspec": {
   "display_name": "Python 3",
   "language": "python",
   "name": "python3"
  },
  "language_info": {
   "codemirror_mode": {
    "name": "ipython",
    "version": 3
   },
   "file_extension": ".py",
   "mimetype": "text/x-python",
   "name": "python",
   "nbconvert_exporter": "python",
   "pygments_lexer": "ipython3",
   "version": "3.6.7"
  },
  "toc": {
   "base_numbering": 1,
   "nav_menu": {
    "height": "84px",
    "width": "252px"
   },
   "number_sections": true,
   "sideBar": true,
   "skip_h1_title": false,
   "title_cell": "Table of Contents",
   "title_sidebar": "Contents",
   "toc_cell": false,
   "toc_position": {},
   "toc_section_display": "block",
   "toc_window_display": false
  }
 },
 "nbformat": 4,
 "nbformat_minor": 2
}
