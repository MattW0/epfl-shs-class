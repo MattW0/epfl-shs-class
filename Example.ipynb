{
 "cells": [
  {
   "cell_type": "code",
   "execution_count": 1,
   "metadata": {},
   "outputs": [],
   "source": [
    "import json\n",
    "import os\n",
    "import bz2\n",
    "import io\n",
    "from bz2 import BZ2File"
   ]
  },
  {
   "cell_type": "markdown",
   "metadata": {},
   "source": [
    "### Transform the data\n"
   ]
  },
  {
   "cell_type": "markdown",
   "metadata": {},
   "source": [
    "You can run bash commands from your notebook, just prefix the command with `!`\n",
    "\n",
    "For example, let's check free space on the disk:"
   ]
  },
  {
   "cell_type": "code",
   "execution_count": 2,
   "metadata": {},
   "outputs": [
    {
     "name": "stdout",
     "output_type": "stream",
     "text": [
      "Filesystem                          Size   Used  Avail Capacity iused      ifree %iused  Mounted on\r\n",
      "/dev/disk0s2                       465Gi  460Gi  5.1Gi    99% 6786589 4288180690    0%   /\r\n",
      "devfs                              187Ki  187Ki    0Bi   100%     648          0  100%   /dev\r\n",
      "map -hosts                           0Bi    0Bi    0Bi   100%       0          0  100%   /net\r\n",
      "map auto_home                        0Bi    0Bi    0Bi   100%       0          0  100%   /home\r\n",
      "localhost:/qq-ZoaG3hRAhXXOGin2FIA  465Gi  465Gi    0Bi   100%       0          0  100%   /Volumes/MobileBackups\r\n"
     ]
    }
   ],
   "source": [
    "! df -h"
   ]
  },
  {
   "cell_type": "markdown",
   "metadata": {},
   "source": [
    "whereas without `!` it won't work:"
   ]
  },
  {
   "cell_type": "code",
   "execution_count": 3,
   "metadata": {},
   "outputs": [
    {
     "ename": "NameError",
     "evalue": "name 'df' is not defined",
     "output_type": "error",
     "traceback": [
      "\u001b[0;31m---------------------------------------------------------------------------\u001b[0m",
      "\u001b[0;31mNameError\u001b[0m                                 Traceback (most recent call last)",
      "\u001b[0;32m<ipython-input-3-c989bd551bfa>\u001b[0m in \u001b[0;36m<module>\u001b[0;34m\u001b[0m\n\u001b[0;32m----> 1\u001b[0;31m \u001b[0mdf\u001b[0m \u001b[0;34m-\u001b[0m\u001b[0mh\u001b[0m\u001b[0;34m\u001b[0m\u001b[0m\n\u001b[0m",
      "\u001b[0;31mNameError\u001b[0m: name 'df' is not defined"
     ]
    }
   ],
   "source": [
    "df -h"
   ]
  },
  {
   "cell_type": "code",
   "execution_count": null,
   "metadata": {},
   "outputs": [],
   "source": [
    "! for f in data/*[0-9].jsonl.bz2; do bzcat $f | jq -c '{id: .id, type: .tp, date: .d, title: .t, fulltext: .ft}' | bzip2 > \"{f%.jsonl.bz2}-reduced.jsonl.bz2\" ; done"
   ]
  },
  {
   "cell_type": "code",
   "execution_count": null,
   "metadata": {},
   "outputs": [],
   "source": [
    "ls -la data/"
   ]
  },
  {
   "cell_type": "markdown",
   "metadata": {},
   "source": [
    "### Reading newspaper archive data\n",
    "\n",
    "Reminder: the data is already 'clean' and the files at hand contains only the following information:\n",
    "- id\n",
    "- date\n",
    "- title\n",
    "- type (article or advertisement)\n",
    "- fulltext"
   ]
  },
  {
   "cell_type": "code",
   "execution_count": 4,
   "metadata": {},
   "outputs": [],
   "source": [
    "input_dir = \"data/\" # update with your path "
   ]
  },
  {
   "cell_type": "code",
   "execution_count": 5,
   "metadata": {},
   "outputs": [],
   "source": [
    "# a helper function to get the lines from am archive\n",
    "def read_jsonlines(bz2_file):\n",
    "    text = bz2_file.read().decode('utf-8')\n",
    "    for line in text.split('\\n'):\n",
    "        if line != '':\n",
    "            yield line"
   ]
  },
  {
   "cell_type": "markdown",
   "metadata": {},
   "source": [
    "### reading data the classical way"
   ]
  },
  {
   "cell_type": "code",
   "execution_count": 6,
   "metadata": {},
   "outputs": [
    {
     "name": "stdout",
     "output_type": "stream",
     "text": [
      "1900-07-24 GDL-1900-07-24-a-i0001 None\n",
      "1900-07-24 GDL-1900-07-24-a-i0002 None\n",
      "1900-07-24 GDL-1900-07-24-a-i0003 None\n",
      "1900-07-24 GDL-1900-07-24-a-i0005 None\n",
      "1900-07-24 GDL-1900-07-24-a-i0006 None\n",
      "1900-07-24 GDL-1900-07-24-a-i0007 None\n",
      "1900-07-24 GDL-1900-07-24-a-i0008 En Chine\n",
      "1900-07-24 GDL-1900-07-24-a-i0010 None\n",
      "1900-07-24 GDL-1900-07-24-a-i0011 None\n",
      "1900-07-24 GDL-1900-07-24-a-i0012 None\n",
      "1900-07-24 GDL-1900-07-24-a-i0013 CONFÉDÉRATION SUISSE\n",
      "1900-07-24 GDL-1900-07-24-a-i0014 Le chemin de fer électrique Thoune-Berthoud\n",
      "1900-07-24 GDL-1900-07-24-a-i0015 Chronique alpestie\n",
      "1900-07-24 GDL-1900-07-24-a-i0016 CHRONIQUE GENEVOISE\n",
      "1900-07-24 GDL-1900-07-24-a-i0018 None\n",
      "1900-07-24 GDL-1900-07-24-a-i0019 None\n",
      "1900-07-24 GDL-1900-07-24-a-i0020 None\n",
      "1900-07-24 GDL-1900-07-24-a-i0021 CHRONIQUE AGRICOLE\n",
      "1900-07-24 GDL-1900-07-24-a-i0022 Dernières dépêches\n",
      "1900-07-24 GDL-1900-07-24-a-i0023 LES LIVRES\n",
      "1900-07-24 GDL-1900-07-24-a-i0024 None\n",
      "1900-07-24 GDL-1900-07-24-a-i0025 None\n",
      "1900-07-24 GDL-1900-07-24-a-i0026 None\n",
      "1900-07-24 GDL-1900-07-24-a-i0028 None\n",
      "1900-07-24 GDL-1900-07-24-a-i0068 None\n",
      "1900-07-24 GDL-1900-07-24-a-i0069 None\n",
      "1900-07-25 GDL-1900-07-25-a-i0001 None\n",
      "1900-07-25 GDL-1900-07-25-a-i0002 Lausanne, 25 juillet 1900. Le Péril socialiste\n",
      "1900-07-25 GDL-1900-07-25-a-i0003 ZOBY\n",
      "1900-07-25 GDL-1900-07-25-a-i0005 None\n",
      "1900-07-25 GDL-1900-07-25-a-i0006 BulletinmétéorologiqUB du2o juillet 7 h. inatm\n",
      "1900-07-25 GDL-1900-07-25-a-i0007 La restauration de St-François.\n",
      "1900-07-25 GDL-1900-07-25-a-i0008 Subventions scolaires.\n",
      "1900-07-25 GDL-1900-07-25-a-i0009 LETTRE DE PARIS\n",
      "1900-07-25 GDL-1900-07-25-a-i0010 None\n",
      "1900-07-25 GDL-1900-07-25-a-i0011 les économistes à Paris.\n",
      "1900-07-25 GDL-1900-07-25-a-i0012 France.\n",
      "1900-07-25 GDL-1900-07-25-a-i0013 CONFÉDÉRATION SUISSE\n",
      "1900-07-25 GDL-1900-07-25-a-i0014 Chronique valaisanne\n",
      "1900-07-25 GDL-1900-07-25-a-i0015 (§h:onique alpestie\n",
      "1900-07-25 GDL-1900-07-25-a-i0016 NOUVELLES DES CANTONS\n",
      "1900-07-25 GDL-1900-07-25-a-i0017 None\n",
      "1900-07-25 GDL-1900-07-25-a-i0019 LAUSANNE\n",
      "1900-07-25 GDL-1900-07-25-a-i0020 CHRONIQUE JUDICIAIRE\n",
      "1900-07-25 GDL-1900-07-25-a-i0021 DERNIER COURRIER En Chine.\n",
      "1900-07-25 GDL-1900-07-25-a-i0022 ernieres aepeene\n",
      "1900-07-25 GDL-1900-07-25-a-i0023 None\n",
      "1900-07-25 GDL-1900-07-25-a-i0024 LA HERNIE EN ÉT\n",
      "1900-07-25 GDL-1900-07-25-a-i0043 None\n",
      "1900-07-25 GDL-1900-07-25-a-i0062 None\n",
      "1900-07-27 GDL-1900-07-27-a-i0001 None\n",
      "1900-07-27 GDL-1900-07-27-a-i0002 Lausanne. 27 juillet 1900\n",
      "1900-07-27 GDL-1900-07-27-a-i0003 ZOBY\n",
      "1900-07-27 GDL-1900-07-27-a-i0005 None\n",
      "1900-07-27 GDL-1900-07-27-a-i0006 Bulletin météorologique du 27 juillet. 7 h. matii\n",
      "1900-07-27 GDL-1900-07-27-a-i0007 Le pays suisse autrefois et aujourd'hui.\n",
      "1900-07-27 GDL-1900-07-27-a-i0008 Transvaal contre Oppcnhciw & O.\n",
      "1900-07-27 GDL-1900-07-27-a-i0009 None\n",
      "1900-07-27 GDL-1900-07-27-a-i0010 Lettre de Suède.\n",
      "1900-07-27 GDL-1900-07-27-a-i0012 France.\n",
      "1900-07-27 GDL-1900-07-27-a-i0013 CONFÉDÉRATION SUISSE\n",
      "1900-07-27 GDL-1900-07-27-a-i0014 Le fils d'un grand homme.\n",
      "1900-07-27 GDL-1900-07-27-a-i0015 NOUVELLES DES CANTONS\n",
      "1900-07-27 GDL-1900-07-27-a-i0017 None\n",
      "1900-07-27 GDL-1900-07-27-a-i0018 LAUSANNE\n",
      "1900-07-27 GDL-1900-07-27-a-i0019 DERNIER COURRIER En Chine.\n",
      "1900-07-27 GDL-1900-07-27-a-i0020 CHRONIQUE MUSICALE\n",
      "1900-07-27 GDL-1900-07-27-a-i0021 Dernières dépêche\n",
      "1900-07-27 GDL-1900-07-27-a-i0022 LES LIVRES\n",
      "1900-07-27 GDL-1900-07-27-a-i0023 Prédications du dimanche 29 juillet 19Q0.\n",
      "1900-07-27 GDL-1900-07-27-a-i0024 None\n",
      "1900-07-27 GDL-1900-07-27-a-i0025 UN FAIT INTERESSANT\n",
      "1900-07-27 GDL-1900-07-27-a-i0052 None\n",
      "1900-07-27 GDL-1900-07-27-a-i0055 None\n",
      "1900-05-07 GDL-1900-05-07-a-i0001 None\n",
      "1900-05-07 GDL-1900-05-07-a-i0002 Lausanne. 7 mai 1900. m\n",
      "1900-05-07 GDL-1900-05-07-a-i0003 Fiancée d'Avril\n",
      "1900-05-07 GDL-1900-05-07-a-i0004 None\n",
      "1900-05-07 GDL-1900-05-07-a-i0005 Une brochure pour les paysans.\n",
      "1900-05-07 GDL-1900-05-07-a-i0006 Les l'ôlcs de Berlin.\n",
      "1900-05-07 GDL-1900-05-07-a-i0007 None\n",
      "1900-05-07 GDL-1900-05-07-a-i0008 (Lettre de &lt;§rance.\n",
      "1900-05-07 GDL-1900-05-07-a-i0010 L'armée française et l'alcool*\n",
      "1900-05-07 GDL-1900-05-07-a-i0011 CONFÉDÉRATION SUISSE\n",
      "1900-05-07 GDL-1900-05-07-a-i0012 La loi dite \" humanitaire \".\n",
      "1900-05-07 GDL-1900-05-07-a-i0013 Tunnel dn Simplou.\n",
      "1900-05-07 GDL-1900-05-07-a-i0015 None\n",
      "1900-05-07 GDL-1900-05-07-a-i0016 NOUVELLES DES CANTONS\n",
      "1900-05-07 GDL-1900-05-07-a-i0017 CANTON DE VAUD\n",
      "1900-05-07 GDL-1900-05-07-a-i0018 None\n",
      "1900-05-07 GDL-1900-05-07-a-i0019 None\n",
      "1900-05-07 GDL-1900-05-07-a-i0020 None\n",
      "1900-05-07 GDL-1900-05-07-a-i0021 None\n",
      "1900-05-07 GDL-1900-05-07-a-i0022 LAUSANNE\n",
      "1900-05-07 GDL-1900-05-07-a-i0023 DERNIER COURRIER\n",
      "1900-05-07 GDL-1900-05-07-a-i0025 Dernières dépêches\n",
      "1900-05-07 GDL-1900-05-07-a-i0026 None\n",
      "1900-05-08 GDL-1900-05-08-a-i0001 None\n",
      "1900-05-08 GDL-1900-05-08-a-i0002 Le prochain vote.\n",
      "1900-05-08 GDL-1900-05-08-a-i0003 Fiancée d'Avril\n"
     ]
    }
   ],
   "source": [
    "for archive in os.listdir(input_dir):\n",
    "    \n",
    "    # take only the transformed archives\n",
    "    if \"reduced\" in archive:\n",
    "        \n",
    "        # open the archive\n",
    "        f = BZ2File(os.path.join(input_dir, archive), 'r')\n",
    "        \n",
    "        # get the list of articles it contains (= a json object on each line)\n",
    "        articles = list(read_jsonlines(f))\n",
    "        \n",
    "        # load the first 100 articles as json and access their attributes\n",
    "        for a in articles[:100]:\n",
    "            \n",
    "            # decode the json string into an object (dict)\n",
    "            json_article = json.loads(a)\n",
    "            print(\n",
    "                json_article[\"date\"],\n",
    "                json_article[\"id\"],\n",
    "                json_article[\"title\"]\n",
    "            )"
   ]
  },
  {
   "cell_type": "markdown",
   "metadata": {},
   "source": [
    "### using dask and map\n",
    "see http://dask.pydata.org/en/latest/docs.html "
   ]
  },
  {
   "cell_type": "code",
   "execution_count": 7,
   "metadata": {},
   "outputs": [],
   "source": [
    "# make sure of having these libraries in your environment ('conda install' / or 'pip install')\n",
    "from dask.diagnostics import ProgressBar\n",
    "from dask.distributed import Client, progress\n",
    "import dask.bag as db"
   ]
  },
  {
   "cell_type": "markdown",
   "metadata": {},
   "source": [
    "#### Helper functions"
   ]
  },
  {
   "cell_type": "code",
   "execution_count": 8,
   "metadata": {},
   "outputs": [],
   "source": [
    "def get_archives(path):\n",
    "    archives = []\n",
    "    for archive in os.listdir(path):\n",
    "        if \"reduced\" in archive:\n",
    "            archives.append(os.path.join(input_dir, archive))\n",
    "    return archives"
   ]
  },
  {
   "cell_type": "code",
   "execution_count": 44,
   "metadata": {},
   "outputs": [],
   "source": [
    "def get_articles(archive_file):\n",
    "    articles = []\n",
    "    # open the archive\n",
    "    f = BZ2File(archive_file, 'r')\n",
    "    # get the list of articles it contains (= a json object on each line)\n",
    "    lines = list(read_jsonlines(f))\n",
    "    # load the articles as json and access their attributes\n",
    "    for a in lines:\n",
    "        articles.append(json.loads(a))\n",
    "    return articles"
   ]
  },
  {
   "cell_type": "markdown",
   "metadata": {},
   "source": [
    "#### Read and filter articles in parallel"
   ]
  },
  {
   "cell_type": "code",
   "execution_count": 10,
   "metadata": {},
   "outputs": [],
   "source": [
    "archives = get_archives(input_dir)"
   ]
  },
  {
   "cell_type": "code",
   "execution_count": 11,
   "metadata": {},
   "outputs": [],
   "source": [
    "bag_archives = db.from_sequence(archives)\n",
    "bag_articles = bag_archives.map(get_articles)\\\n",
    "                        .flatten()\\\n",
    "                        .filter(lambda ar: ar['fulltext'] != '')\\\n",
    "                        .repartition(npartitions=100)"
   ]
  },
  {
   "cell_type": "code",
   "execution_count": 12,
   "metadata": {},
   "outputs": [
    {
     "name": "stdout",
     "output_type": "stream",
     "text": [
      "[########################################] | 100% Completed |  1min 10.4s\n"
     ]
    }
   ],
   "source": [
    "with ProgressBar():\n",
    "    bag_articles = bag_articles.persist()"
   ]
  },
  {
   "cell_type": "code",
   "execution_count": 45,
   "metadata": {},
   "outputs": [
    {
     "data": {
      "text/plain": [
       "({'id': 'GDL-1900-07-25-a-i0001',\n",
       "  'type': 'ar',\n",
       "  'date': '1900-07-25',\n",
       "  'title': None,\n",
       "  'fulltext': 'REDACTION .\\'\\'Eue Pcuinçt, 3. V BUREAU D\\'ABONNEMENTS fiucilo St-François, 20. On s\\'abonne dans lous les bureaux do poste Les abonnements partent du 1 \" ou du l\\'ô do chaque mois. PRIX D\\'ABONNEMENT Un an 6 mois 8 moi} Suisso Fr. 20 dO 50 5 50 Union postale » 36 18 50 9 50 Prix du numéro : 10 centimes. '},\n",
       " {'id': 'GDL-1900-07-25-a-i0002',\n",
       "  'type': 'ar',\n",
       "  'date': '1900-07-25',\n",
       "  'title': 'Lausanne, 25 juillet 1900. Le Péril socialiste',\n",
       "  'fulltext': \"Lausanne, 25 juillet 1900. Le Péril socialiste. Le socialisme prépare une révolution économique semblable à celle qui, éteignant la civilisation romaine, répandit sur l'Europe les ténèbres du moyen âge. Ce bouleversement est inévitable, non par la force des partis qui attaquent la société, mais par l'ignorance, la légèreté et la lâ cheté de ceux que les agresseurs veulent spolier. Telle est la thèse que M. Vilfredo Pareto, l'éminent économiste dont s'honore la Faculté de droit de l'Université de Lausanne, vient de développer dans une vingtaine de pages, en une preste et attrayante dialectique (1). Relevons quelques points essentiels de son argumentation. Presque jamais, dit M. Pareto, les aristocraties — ce mot étant pris dans son sens étymologique, les meilleurs — n'ont péri sous les coups de leurs adversaires. Elles se sont toujours faites elles-mêmes les artisans de leur destruction. Voyez l'ancien régime en France. Voyez l'avènement du christianisme dans le monde romain. Pline, le jeune, sous Trajan, croyait qu'on pourrait arrêter l'envahissement de la supersti tion chrétienne. L'armée et les classes di rigeantes étaient encore intactes. Le moyen de croire que de petites communautés de gens sans aveu oseraient braver un magistrat romain et se mesurer avec les légions dont les aigles victorieuses avaient traversé tant de champs de bataille ? Le prince de Bismark partageait la même illusion à l'endroit du socialisme. L'erreur de Pline, comme celle du grand chancelier, consistait à ne pas tenir compte de l'évolution naturelle des doctrines. Certes, si le christianisme n'eut pas transigé, s'il était resté une religion de pauvres gens, jamais il ne serait devenu la religion officielle de l'empire. Pareillement, ce n'est pas le socialisme de Bebel en Allemagne, ni celui de Jules Guesde en France qui arriveront au pouvoir. Ce sera un autre genre de socialisme, leur héritier direct, et qui, pour être transigeant, n'en sera pas moins spoliateur. La conversion de Constantin n'est pas mentionnée par les historiens romains. Il semble à les lire que tous les princes du IV siècle persistent à pratiquer l'ancienne religion. Le silence est devenu la dernière prostestation du culte proscrit. Et cette indifférence ne se retrouve-t-elle pas d'hui chez nos libéraux ? Leurs journaux relatent sans commentaires les persécutions dont un ingénieur a été l'objet de la part de grévistes ou les mauvais traitements inlligés par ceux-ci à un camarade refusant de quitter le travail ou les spoliations qu'une municipalité radicale-socialiste fait subir aux gens capables et travailleurs au profit des incapables et des paresseux. Parmi les nombreuses espèces de socialistes, ce ne sont pas les socialistes scientifiques qui sont les plus dangereux. Ils recherchent sincèrement la vérité. Par leur science économique, ils sont très supérieurs à bien des économistes de la prétendue école historique. Mais ils sont peu nombreux et sans influence pratique. Le péril ne vient pas non plus des socialistes orthodoxes, dont l'action est cependant considérable. Marxistes intransigeants, ils veulent détruire le capital social. Moins ignorants ou moins avides que les socialistes-radi-(1) LE PÉRIL SOCUMSTK, par Vilfredo Pareto. (Extrait du Journal des Economistes). — Paris, librairie Guillauiiiin & Cie, ruo Richelieu. caux, ils entendent toutefois constituer le capital collectif. Les ennemis les plus dangereux de la société actuelle sont ces sectes mrltiples qui, faute d'un terme plus approprié, peuvent être comprises sous le nom de « socialistes vulgaires ». Ce sont elles qui brisent ou plutôt endorment la résistance des partis bourgeois. Le socialisme vulgaire rend traîtres à leur propre causa un grand nombre d'individus appartenant aux classes possédantes. Il jette un pont par où peuvent passer les gens timorés s'effrayant d'un saut qui les porterait en plein dans le socialisme révolutionnaire. Parmi les socialistes vulgaires, M. Pareto range les socialistes chrétiens — catholiques ou protestants, — assez répandus en Allemagne ; les socialistes de la chaire, qui sont en train de disparaître ; les éthiques, qui, dans les ligues pour l'action morale et autres semblables, s'agitent beaucoup et font plus de bruit que de besogne ; les so cialistes hygiénistes, qui, sous prétexte de soigner notre santé, veulent jouer le rôle du médecin de Sancho Pança ; les socialistes moralistes, qui veulent nous rendre moraux en vertu d'un article de loi ; ils viennent de proposer, en Allemagne, la lex Heinze, monstrueuse conception de cerveaux malades ; les socialistes humanitaires, qui substituent aux raisonnements des déclamations vides et creuses ; enfin les radicaux-socialistes, les plus nombreux, les plus inlluents, les plus nuisibles de tous ; ils sont socialistes comme ils seraient partisans de tout autre régime pourvu qu'ils y trouvassent leur avantage ; pour payer les faveurs de leurs électeurs, ils ont découvert un moyen ingénieux de spoliation : l'impôt est voté par la majorité des électeurs et payé par la minorité. On voit de grands gaillards toucher, aux frais des ouvriers laborieux, cinq francs par jour pour un travail insignifiant. Mais en temps d'élection, ils assurent le triomphe des politiciens qui leur distribuent la manne. Le passage suivant marque bien les procédés par lesquels le socialisme vulgaire s'insinue dans le parti qu'il détruira : Allez dire franchement à un bourgeois que, suivant votre théorie, il doit être dépossédé de sa maison et de ses rentes, il aura peut-être encore assez de bon sens et d'énergie pour repousser cette doctrine. Mais que se présente un socialiste chrétien, un éthique, un partisan la « solidarité » et il leur prêtera une oreille attentive. Il dira volontiers : « Je me mettrai d'accord » Avec cet animal qui m'a semblé si doux : Il est velouté comme nous. Marqueté, longue queue, une. humble conteuance, Un modeste regard et pourtant l'œil luisant. Je le crois fort sympathisant Avec messieurs les rats ! c'est-à-dire avec messieurs les bourgeois. En effet, sa sympathie est telle qu'il veut les alléger de leurs deniers et les livrer pieds et poings iiés aux socialistes révolutionnaires qui achèveront l'œuvre si bien commencée. Mais les libéraux ne se contentent pas de renoncer à toute défense. Naïvement, ils vont jusqu'à aider leurs adversaires. La brochure que nous analysons décrit avec netteté cette folle tactique : Ils fondent, de leurs deniers, des et universités populaires », où l'on enseigne que leurs biens sont mal acquis et qu'il les en faut dépouiller. C'est déplacer la question que de la porter sur le terrain de la liberté. Aucun libéral ne refusera aux socialistes la liberté d'exposer leur doctrine, de la défendre, de critiquer celle de leurs adversaires, de se livrer activement à la propagande de lenrs théories. Tout le monde est disposé à accorder la liberté à ses amis, les libéraux la veulent aussi pour leurs adversaires. Je puis parler de la chose sans le moindre embarras, car, n'étant ni socialiste ai clérical, j'ai toujours défendu la liberté des uns et des autres. Partisan de la concurrence, je n'ai jamais demandé qu'on donnât à l'Etat le monopole de l'instruction publique, sous prétexte que mes adversaires tirent parti de cette concurrence. Mais si l'on doit la liberté, la tolérance, la courtoisie à ses adversaires, on ne leur doit pas aide et secours pour les mettre en mesure de faire des prosélytes. Etre partisan de la concurrence et donner de l'argent à son concurrent sont deux choses essentiellement différentes. Que les socialistes fondent autant d'universités populaires qu'il leur plaira, et pourvu que ce soit avec leur argent, aucun libéral n'y trouvera à redire ; mais je trouve absurde qu'on me demande mon argent pour propager ce que je crois être l'erreur ; j'entends le réserver uniquement pour la défense de ce que, à tort ou à raison, je crois être la vérité. Enfin, de même que tolérance n'est pas assistance, courtoisie n'est pas flatterie. Un savant illustre, donnant une conférence à des ignorants, parle de « coopération des idées ». Il est plus que courtois. Il ilatte. Il ne peut croire sincèrement que ses auditeurs « coopèrent » et lui enseignent quelque chose. C'était aussi un courtisan que ce ministre qui, parlant d'ouvriers auxquels on voulait faire entendre gratis — c'est-à-dire aux frais des contribuables — les artistes des grands théâtres, disait : les ouvriers « consentent à prendre sur leurs soirées quelques heures tous les mois » pour aller jouir des distractions qu'on leur offre. « Il est des gens, dit M. Pareto, qui s'imaginent désarmer leurs ennemis à force de lâches complaisances. Us se trompent. Le monde a toujours appartenu aux forts et leur appartiendra longtemps encore. Les hommes ne respectent que ceux qui savent se faire respecter. Qui se fait agneau trouvera toujours un loup pour le manger ». Vérité incontestable, mais qu'il n'était pas trop de l'autorité et de la verve du savant professeur pour rappeler aux libéraux de tous pays. \"},\n",
       " {'id': 'GDL-1900-07-25-a-i0003',\n",
       "  'type': 'ar',\n",
       "  'date': '1900-07-25',\n",
       "  'title': 'ZOBY',\n",
       "  'fulltext': \"ZOBY FEUILLETON DE LA GAZETTE DE LAUSANNE PAR HENRY GRÉVILLE — Urbain ? tu parles d'Urbain ? dit Zoby. — Il est amoureux de toi, lit l'enfant très grave. Dans cette jeune bouche ces mots résonnaient étrangement ; mais, si la bouche était jeune, le front avait l'air vieillot. — Pas encore, répliqua gaiement Zoby ; cela viendra, sois tranquille ; mais il est trop jeune, il ne sait pas seulement quelle figure on fait quand on est amoureux. — Tu ne l'épouseras pas ? — Oh non ! je ne pense pas... Non, décidément. Et puis, qu'est-ce que ça te ferait ? — Je ne veux pas qu'on t'épouse, répondit Léon d'un ton calme qui était un ordre. Zoby ne rit pas, cette fois ; elle regarda avec un mélange de tendresse et de pitié l'expression concentrée du pâle visage qui l'examinait. — Nous avons le temps d'y songer, dit-elle. A présent, Léon, ce n'est pas la peine, nous perdrions nos paroles. J'irai t'écouter demain. — Il y a un nouveau motet, très beau : c'est moi qui commence ; le chœur ensuite. Après un instant, il ajouta : — Je suis fatigué, je vais me coucher. La grand'mère tourna vers lui son visage surpris. Depuis qu'il savait parler, c'était la première fois que Léon se disait fatigué. Aucune marche forcée, aucun travail enragé n'avait pu, jusque-là, lui arracher cet aveu. Il se leva et se dirigea vers son lit, laissant la porte ouverte. Pendant quelques minutes on l'entendit soupirer et se retourner, puis il s'endormit. Un peu après, sa sœur alla le voir ; penchée sur lui très prudemment, car il avait le sommeil léger, elle écouta les battements du jeune cœur qui résonnait dans le silence, un peu forts, très irréguliers... Elle ne l'embrassa pas ; mais debout, les mains jointes, elle le contempla longtemps dans la pénombre... puis elle revint s'asseoir et termina son chapeau. Le lendemain soir, comme elle l'avait promis, Zoby accompagna son frère jusqu'au pied de l'escalier en dentelle de pierre qui conduit au jubé de la cathédrale. Dehors, il faisait grand jour encore ; mais l'intérieur de l'église était sombre. La maîtrise au grand complet se trouvait à son poste : de petites lampes fixées aux pupitres jetaient leur vive clarté sur les feuillets de musique ; une lampe plus haute, très puissante éclairait la partition sur l'estrade de Tarragone, dont le visage, au-dessus, se trouvait dans l'ombre. C'était un spectacle singulier que cette pléiade de faibles lumières à cette hauteur, dans la nef obscure, piquée çà et là de cierges votifs. Personne d'ailleurs, dans l'immense édifice, sauf des prêtres dans les confessionnaux et quelques dévotes avec leurs chapelets. — Te voilà, Léon ? fit le maître de chapelle, qui tatoyait tous ses garçons. Es-tu bien ? Peux-tu chanter ? Sept heures sonnèrent à l'horloge. Au dehors, les hirondelles tournoyaient avec des cris joyeux qu'on entendait lorsqu'une femme ouvrait ou fermait la porte. — Je SHÎS prêt, Monsieur, dit Léon en regardant José ; il tenait à la main son feuillet de musique. Trois ou quatre petits coups d'avertissement sur le pupitre, puis Tarragoue leva le bâton de mesure... La voix de Léon partit comme une fusée dans l'immense vaisseau qu'elle remplit de sa sonorité singulière. Elle se pliait avec une incomparable souplesse aux fantaisies du compositeur, embrassant, contournant la mélodie pour ainsi dire, de façon à donner une certaine angoisse délicieuse, comme si l'on avait un peu peur d'être étouffé. Le chœur suivit et développa le motif. Léon s'était tu ; le morceau s'acheva sans qu'il eut chanté le finale avec les autres. — Reprenons, dit Tarragone après un court repos. Léon, tu chanteras la fin, cette fois, n'est-ce pas ? L'enfant recommença ; sa voix était encore plus fluide, plus pénétrante que tout à l'heure ; soudain, elle s'arrêta comme cassée ; nn mouvement dans les rangs, le bruit d'une chute... Zoby était déjà dans l'escalier de pierre. Les jeunes garçons avaient relevé leur camarade ; mais ils ne devaient plus jamais l'entendre. Un mince filet de sang coulait du coin de sa bouche ; quand on voulut le redresser, le sang jaillit, éclaboussant sa sœur, qui le tenait serré contre elle. — Léon, Liof... disait-elle tout bas en le secouant très doncement. Tout à coup, elle regarda Tarragone qui soutenait le corps sous les bras. — Comme maman, dit-elle. Il s'est rompu une veine. Ces voix divines, cela doit finir ainsi. Les yeux de Zoby exprimaient une profonde angoisse, une pitié sans borne, plus qu'une douleur ordinaire. — II n'a pas souffert, Monsieur, n'est-ce pas ? dit-elle en implorant du regard le maître de chapelle consterné. — Mais il n'est pas mort ! dit celui-ci s'avisant tout à coup de l'ennui que causerait cette catastrophe dans un lieu consacre. Il n'est qu'évanoui. Nous allons le transporter chez le pharmacien de la place ; il y a un médecin dans la maison... Le cortège descendait déjà l'escalier. La frêle Zoby soutenait sur son épaule la lourde tête qui se laissait aller sans résistance. Le pharmacien ouvrit son salon particulier, et, devinant l'accident, annonça que le cœur battait encore. Zoby le regarda d'un air incrédule, mais ne dit rien. Lorsque le médecin se présenta ., il constata la mort. La jeune fille poussa un soupir, et se redressa. — Je savais qu'il mourrait en chantant, ditelle. Maman aussi. On va l'emmener chez nous, n'est-ce pas ? — Mais votre grand'mère ? demanda José. Ne craignez-vous pas le choc pour elle ? Zoby haussa les épaules. — Énvoyez-la prévenir, si vous voulez, ditelle. Je reste avec Liof. Le funèbre cortège s'achemina vers la demeure dos enfants Zorn, pendant que Tarragone réunissait sa maîtrise éparpillée et la ramenait au jubé. La répétition continua ; mais on ne chanta plus le motet. Il faut bien que la vie suive son cours sur les corps de ceux qui se sont laissé tomber. Léon fut enterré un matin de mai, sous une neige de pétales blancs qu'une brise fantasque arrachait aux cerisiers en Heurs, dans tous les vergers des Flandres. Sa sœur vit retomber la terre sur le petit cercueil, sans que ses yeux foncé 3 ni ses lèvres minces eussent fait un mouvement ; mais son teint était semblable à de l'ivoire mat. Quand ce fut fini, elle prit le bras d'Eisa, et le serra avec force. — Je n'ai plus personne, cdit-olle. Une détresse réelle convulsionna le visage impassible. Lafillede Tarragone entoura de ses tendres bras, de ses belles mains compatissantes, les épamles maigres de Zoby Zorn. — Vous nous avez, dit-elle avec une bonté infinie. Zoby la regarda au fond des yeux, lut dans cette âme candide, et se détourna avec une sorte de honte. — Si vous le voulez, murmura-t-elle, les yeux baissés. Eisa la conduisit à sa mère, qui, devant cette douleur, prit sur son sein l'orpheline esseulée. — Et sa grand'mère ? demanda tout bas Urbain à son père. — Elle est à peu près privée de raison, à ce que je suppose, répondit celui-ci. Pourquoi s'était-il fait cette idée de Mme Zorn ; il eût été bien embarrassé de le dire ; mais c'était une explication : pour l'heure, il n'en fallait pas davantage. Pendant la semaine suivante, la robe noire de Zoby et un petit chapeau de crêpe, qui avait remplacé le grand Gainsborough à plumes, se montrèrent souvent sur le seuil de la maison flamande. Eisa s'ell'orçait de rasséréner l'âme, évidemment troublée, de sa nouvelle amie, et voyait avec chagrin ses consolations demeurer sans effet. — ; Je savais que cela arriverait, répétait Zoby, les mains ouvertes sur les genoux. Eisa lui parla de la vie éternelle, d'un revoir dans un monde meilleur : ses douces paroles furent écoutées en silence, et elle dut s'avouer à elle-même que toute tentative on ce sens serait inutile ; Zoby ne s'intéressait pas à la vie éternelle. Ce fut un gros crève-cœur pour l'aimable enfant ; sa jeune âme chrétienne ne pouvait comprendre un cerveau où l'idée d'immortalité ne primerait pas toutes les autres ; sontant que Mme Claudia serait horriblement choquée si elle venait à l'apprendre, elle évita rigoureusement toute confidence à ce sujet ; pour la première fois, depuis qu'elle avait ouvert les yeux de son corps à la notion des choses, elle eut un secret pour sa mère. Cette créature de bonté n'éprouva point de répulsion ni même de détachement en découvrant eu Mlle Zorn ce qui pour elle était néanmoins une tare ; elle eut tellement pitié de la détresse morale, qui, croyait-elle, devait accompagner cet état d'esprit, qu'elle en aima davantage la pauvre déshéritée, et lui prodigua toutes les délicatesses de son tendre cœur. Mme Tarragone n'éleva pas d'objections ; c'était là un cas en dehors de toutes les règles qu'elle s'imposait dans la vie ; sympathique ou non, une jeune fille se trouvait seule au monde : pourquoi son enfant n'apporterait-elle pas quelque soulagement à cette affreuse situation ? L'en empêcher, même par les meilleures raisons de sagesse, eût été une sorte de cruauté, un mauvais exemple pour toutes les deux. Mai s'achevait ; les lilas avaient passé fleur, les cytises perdaient leurs longues grappes d'or qui s'envolaient en poussière ailée par-dessus les murs des jardins : le remue-ménage annuel était commencé chez Mme Claudia ; les meubles, couverts de leurs housses blanches, semblaient des fantômes, dont les plus jeunes enfants avaient un peu peur à la nuit tombante : des malles, descendues des greniers, restaient béantes tout le jour et même parfois toute la nuit, en attendant qu'on les remplît de choses claires et délicates, mousselines et linons d'été pour les filles, coutil rayé pour les garçons ; Eisa passait des heures, patiemment agenouillée auprès des grands coffres, rangeant les vêtements d'hiver dans des draps qui sentaient la bonne lessive. Un jour, vers cinq heures, Zoby vint comme elle le faisait souvent, et sans être \"},\n",
       " {'id': 'GDL-1900-07-25-a-i0005',\n",
       "  'type': 'ar',\n",
       "  'date': '1900-07-25',\n",
       "  'title': None,\n",
       "  'fulltext': 'HT JOUR » AL SUISSE FONDÉE EN 1798 '})"
      ]
     },
     "execution_count": 45,
     "metadata": {},
     "output_type": "execute_result"
    }
   ],
   "source": [
    "bag_articles.take(4, npartitions=10)"
   ]
  },
  {
   "cell_type": "code",
   "execution_count": 90,
   "metadata": {},
   "outputs": [
    {
     "data": {
      "text/plain": [
       "6727"
      ]
     },
     "execution_count": 90,
     "metadata": {},
     "output_type": "execute_result"
    }
   ],
   "source": [
    "bag_articles.count().compute()"
   ]
  },
  {
   "cell_type": "code",
   "execution_count": 14,
   "metadata": {},
   "outputs": [],
   "source": [
    "articles = bag_articles.compute()"
   ]
  },
  {
   "cell_type": "code",
   "execution_count": 15,
   "metadata": {},
   "outputs": [
    {
     "data": {
      "text/plain": [
       "6727"
      ]
     },
     "execution_count": 15,
     "metadata": {},
     "output_type": "execute_result"
    }
   ],
   "source": [
    "len(articles)"
   ]
  },
  {
   "cell_type": "markdown",
   "metadata": {},
   "source": [
    "#### Compute total number of tokens (parallel)"
   ]
  },
  {
   "cell_type": "code",
   "execution_count": 46,
   "metadata": {},
   "outputs": [],
   "source": [
    "n_tokens = bag_articles.map(lambda ar: len(ar['fulltext'].split()))"
   ]
  },
  {
   "cell_type": "code",
   "execution_count": 47,
   "metadata": {},
   "outputs": [],
   "source": [
    "total_tokens = n_tokens.sum().compute()"
   ]
  },
  {
   "cell_type": "code",
   "execution_count": 48,
   "metadata": {},
   "outputs": [
    {
     "data": {
      "text/plain": [
       "'4,178,435'"
      ]
     },
     "execution_count": 48,
     "metadata": {},
     "output_type": "execute_result"
    }
   ],
   "source": [
    "\"{:,}\".format(total_tokens)"
   ]
  },
  {
   "cell_type": "markdown",
   "metadata": {},
   "source": [
    "#### Extract Named Entities with SpaCy"
   ]
  },
  {
   "cell_type": "code",
   "execution_count": 18,
   "metadata": {},
   "outputs": [],
   "source": [
    "import textacy"
   ]
  },
  {
   "cell_type": "code",
   "execution_count": 21,
   "metadata": {},
   "outputs": [],
   "source": [
    "fr = textacy.load_spacy('fr_core_news_sm')"
   ]
  },
  {
   "cell_type": "code",
   "execution_count": 22,
   "metadata": {},
   "outputs": [
    {
     "data": {
      "text/plain": [
       "spacy.lang.fr.French"
      ]
     },
     "execution_count": 22,
     "metadata": {},
     "output_type": "execute_result"
    }
   ],
   "source": [
    "type(fr)"
   ]
  },
  {
   "cell_type": "code",
   "execution_count": null,
   "metadata": {},
   "outputs": [],
   "source": [
    "def extract_entities(article):\n",
    "\n",
    "    # load spacy language model for French\n",
    "    fr = textacy.load_spacy('fr_core_news_sm')\n",
    "    \n",
    "    # create a textacy Document\n",
    "    doc = textacy.Doc(article['fulltext'], lang=fr)\n",
    "    \n",
    "    # apply SpaCy ner to the Document via textacy\n",
    "    nes = list(textacy.extract.named_entities(doc))\n",
    "    \n",
    "    return {\n",
    "        \"id\": article[\"id\"],\n",
    "        \"entities\": nes,\n",
    "        \"textacy_doc\": doc\n",
    "    }"
   ]
  },
  {
   "cell_type": "code",
   "execution_count": 49,
   "metadata": {},
   "outputs": [
    {
     "name": "stdout",
     "output_type": "stream",
     "text": [
      "CPU times: user 9min 3s, sys: 3min 23s, total: 12min 26s\n",
      "Wall time: 3min 45s\n"
     ]
    }
   ],
   "source": [
    "%%time\n",
    "entities_by_article = [\n",
    "    extract_entities(art)\n",
    "    for art in articles[:1000]\n",
    "]"
   ]
  },
  {
   "cell_type": "code",
   "execution_count": 43,
   "metadata": {},
   "outputs": [
    {
     "data": {
      "text/plain": [
       "{'id': 'GDL-1900-07-25-a-i0002',\n",
       " 'entities': [Lausanne,\n",
       "  Péril socialiste,\n",
       "  M. Vilfredo Pareto,\n",
       "  Faculté de droit de l',\n",
       "  Université de Lausanne,\n",
       "  Pareto,\n",
       "  Voyez,\n",
       "  France,\n",
       "  Voyez,\n",
       "  Pline,\n",
       "  Trajan,\n",
       "  prince de Bismark,\n",
       "  Pline,\n",
       "  Bebel,\n",
       "  Allemagne,\n",
       "  Jules Guesde,\n",
       "  France,\n",
       "  Constantin,\n",
       "  IV siècle,\n",
       "  Marxistes,\n",
       "  PÉRIL SOCUMSTK,\n",
       "  Vilfredo Pareto,\n",
       "  Extrait du Journal des Economistes,\n",
       "  Paris,\n",
       "  Guillauiiiin & Cie,\n",
       "  Richelieu,\n",
       "  Pareto,\n",
       "  Allemagne,\n",
       "  Sancho Pança,\n",
       "  Allemagne,\n",
       "  Heinze,\n",
       "  Allez,\n",
       "  Marqueté,\n",
       "  modeste regard,\n",
       "  Etat,\n",
       "  M.,\n",
       "  Pareto,\n",
       "  Vérité]}"
      ]
     },
     "execution_count": 43,
     "metadata": {},
     "output_type": "execute_result"
    }
   ],
   "source": [
    "entities_by_article[1]"
   ]
  }
 ],
 "metadata": {
  "kernelspec": {
   "display_name": "Python 3",
   "language": "python",
   "name": "python3"
  },
  "language_info": {
   "codemirror_mode": {
    "name": "ipython",
    "version": 3
   },
   "file_extension": ".py",
   "mimetype": "text/x-python",
   "name": "python",
   "nbconvert_exporter": "python",
   "pygments_lexer": "ipython3",
   "version": "3.7.0"
  },
  "toc": {
   "colors": {
    "hover_highlight": "#DAA520",
    "navigate_num": "#000000",
    "navigate_text": "#333333",
    "running_highlight": "#FF0000",
    "selected_highlight": "#FFD700",
    "sidebar_border": "#EEEEEE",
    "wrapper_background": "#FFFFFF"
   },
   "moveMenuLeft": true,
   "nav_menu": {
    "height": "84px",
    "width": "252px"
   },
   "navigate_menu": true,
   "number_sections": true,
   "sideBar": true,
   "threshold": 4,
   "toc_cell": false,
   "toc_section_display": "block",
   "toc_window_display": false,
   "widenNotebook": false
  }
 },
 "nbformat": 4,
 "nbformat_minor": 2
}
